{
 "cells": [
  {
   "cell_type": "markdown",
   "metadata": {},
   "source": [
    "# GPT-2 Fine-Tuning"
   ]
  },
  {
   "cell_type": "code",
   "execution_count": 11,
   "metadata": {
    "execution": {
     "iopub.execute_input": "2024-12-05T08:22:30.553380Z",
     "iopub.status.busy": "2024-12-05T08:22:30.552998Z",
     "iopub.status.idle": "2024-12-05T08:22:39.247652Z",
     "shell.execute_reply": "2024-12-05T08:22:39.246389Z",
     "shell.execute_reply.started": "2024-12-05T08:22:30.553350Z"
    },
    "trusted": true
   },
   "outputs": [
    {
     "name": "stderr",
     "output_type": "stream",
     "text": [
      "/opt/conda/lib/python3.10/pty.py:89: RuntimeWarning: os.fork() was called. os.fork() is incompatible with multithreaded code, and JAX is multithreaded, so this will likely lead to a deadlock.\n",
      "  pid, fd = os.forkpty()\n"
     ]
    },
    {
     "name": "stdout",
     "output_type": "stream",
     "text": [
      "Requirement already satisfied: transformers in /opt/conda/lib/python3.10/site-packages (4.46.3)\n",
      "Requirement already satisfied: nltk in /opt/conda/lib/python3.10/site-packages (3.2.4)\n",
      "Requirement already satisfied: rouge-score in /opt/conda/lib/python3.10/site-packages (0.1.2)\n",
      "Requirement already satisfied: filelock in /opt/conda/lib/python3.10/site-packages (from transformers) (3.15.1)\n",
      "Requirement already satisfied: huggingface-hub<1.0,>=0.23.2 in /opt/conda/lib/python3.10/site-packages (from transformers) (0.26.2)\n",
      "Requirement already satisfied: numpy>=1.17 in /opt/conda/lib/python3.10/site-packages (from transformers) (1.26.4)\n",
      "Requirement already satisfied: packaging>=20.0 in /opt/conda/lib/python3.10/site-packages (from transformers) (21.3)\n",
      "Requirement already satisfied: pyyaml>=5.1 in /opt/conda/lib/python3.10/site-packages (from transformers) (6.0.2)\n",
      "Requirement already satisfied: regex!=2019.12.17 in /opt/conda/lib/python3.10/site-packages (from transformers) (2024.5.15)\n",
      "Requirement already satisfied: requests in /opt/conda/lib/python3.10/site-packages (from transformers) (2.32.3)\n",
      "Requirement already satisfied: tokenizers<0.21,>=0.20 in /opt/conda/lib/python3.10/site-packages (from transformers) (0.20.3)\n",
      "Requirement already satisfied: safetensors>=0.4.1 in /opt/conda/lib/python3.10/site-packages (from transformers) (0.4.5)\n",
      "Requirement already satisfied: tqdm>=4.27 in /opt/conda/lib/python3.10/site-packages (from transformers) (4.66.4)\n",
      "Requirement already satisfied: six in /opt/conda/lib/python3.10/site-packages (from nltk) (1.16.0)\n",
      "Requirement already satisfied: absl-py in /opt/conda/lib/python3.10/site-packages (from rouge-score) (1.4.0)\n",
      "Requirement already satisfied: fsspec>=2023.5.0 in /opt/conda/lib/python3.10/site-packages (from huggingface-hub<1.0,>=0.23.2->transformers) (2024.6.0)\n",
      "Requirement already satisfied: typing-extensions>=3.7.4.3 in /opt/conda/lib/python3.10/site-packages (from huggingface-hub<1.0,>=0.23.2->transformers) (4.12.2)\n",
      "Requirement already satisfied: pyparsing!=3.0.5,>=2.0.2 in /opt/conda/lib/python3.10/site-packages (from packaging>=20.0->transformers) (3.1.2)\n",
      "Requirement already satisfied: charset-normalizer<4,>=2 in /opt/conda/lib/python3.10/site-packages (from requests->transformers) (3.3.2)\n",
      "Requirement already satisfied: idna<4,>=2.5 in /opt/conda/lib/python3.10/site-packages (from requests->transformers) (3.7)\n",
      "Requirement already satisfied: urllib3<3,>=1.21.1 in /opt/conda/lib/python3.10/site-packages (from requests->transformers) (1.26.18)\n",
      "Requirement already satisfied: certifi>=2017.4.17 in /opt/conda/lib/python3.10/site-packages (from requests->transformers) (2024.6.2)\n"
     ]
    }
   ],
   "source": [
    "!pip install transformers nltk rouge-score"
   ]
  },
  {
   "cell_type": "markdown",
   "metadata": {},
   "source": [
    "## 1 Предобработка данных"
   ]
  },
  {
   "cell_type": "markdown",
   "metadata": {},
   "source": [
    "Очистим данные от переносов строк, html-тэгов, url'ов и т.п."
   ]
  },
  {
   "cell_type": "code",
   "execution_count": 4,
   "metadata": {
    "execution": {
     "iopub.execute_input": "2024-12-05T08:22:39.250427Z",
     "iopub.status.busy": "2024-12-05T08:22:39.250000Z",
     "iopub.status.idle": "2024-12-05T08:22:39.255508Z",
     "shell.execute_reply": "2024-12-05T08:22:39.254475Z",
     "shell.execute_reply.started": "2024-12-05T08:22:39.250390Z"
    },
    "trusted": true
   },
   "outputs": [],
   "source": [
    "import pandas as pd\n",
    "import numpy as np\n",
    "import torch\n",
    "import re"
   ]
  },
  {
   "cell_type": "code",
   "execution_count": 13,
   "metadata": {
    "execution": {
     "iopub.execute_input": "2024-12-05T08:22:39.257759Z",
     "iopub.status.busy": "2024-12-05T08:22:39.257011Z",
     "iopub.status.idle": "2024-12-05T08:22:39.269087Z",
     "shell.execute_reply": "2024-12-05T08:22:39.268361Z",
     "shell.execute_reply.started": "2024-12-05T08:22:39.257726Z"
    },
    "trusted": true
   },
   "outputs": [],
   "source": [
    "def cleaning(s):\n",
    "    s = str(s)\n",
    "    s = re.sub('\\s\\W',' ',s)\n",
    "    s = re.sub('\\W,\\s',' ',s)\n",
    "    s = re.sub(\"\\d+\", \"\", s)\n",
    "    s = re.sub('\\s+',' ',s)\n",
    "    s = re.sub('[!@#$_]', '', s)\n",
    "    s = s.replace(\"co\",\"\")\n",
    "    s = s.replace(\"https\",\"\")\n",
    "    s = s.replace(\"strong>\",\"\")\n",
    "    s = s.replace(\"</strong\",\"\")\n",
    "    s = s.replace(\"<br/>\",\"\")\n",
    "    s = s.replace(\"[\\w*\",\" \")\n",
    "\n",
    "    return s"
   ]
  },
  {
   "cell_type": "code",
   "execution_count": 14,
   "metadata": {
    "execution": {
     "iopub.execute_input": "2024-12-05T08:22:39.271624Z",
     "iopub.status.busy": "2024-12-05T08:22:39.271259Z",
     "iopub.status.idle": "2024-12-05T08:22:39.974821Z",
     "shell.execute_reply": "2024-12-05T08:22:39.973872Z",
     "shell.execute_reply.started": "2024-12-05T08:22:39.271595Z"
    },
    "trusted": true
   },
   "outputs": [
    {
     "data": {
      "text/html": [
       "<div>\n",
       "<style scoped>\n",
       "    .dataframe tbody tr th:only-of-type {\n",
       "        vertical-align: middle;\n",
       "    }\n",
       "\n",
       "    .dataframe tbody tr th {\n",
       "        vertical-align: top;\n",
       "    }\n",
       "\n",
       "    .dataframe thead th {\n",
       "        text-align: right;\n",
       "    }\n",
       "</style>\n",
       "<table border=\"1\" class=\"dataframe\">\n",
       "  <thead>\n",
       "    <tr style=\"text-align: right;\">\n",
       "      <th></th>\n",
       "      <th>Article</th>\n",
       "      <th>Date</th>\n",
       "      <th>Heading</th>\n",
       "      <th>NewsType</th>\n",
       "      <th>CleanArticles</th>\n",
       "    </tr>\n",
       "  </thead>\n",
       "  <tbody>\n",
       "    <tr>\n",
       "      <th>0</th>\n",
       "      <td>KARACHI: The Sindh government has decided to b...</td>\n",
       "      <td>1/1/2015</td>\n",
       "      <td>sindh govt decides to cut public transport far...</td>\n",
       "      <td>business</td>\n",
       "      <td>KARACHI: The Sindh government has decided to b...</td>\n",
       "    </tr>\n",
       "    <tr>\n",
       "      <th>1</th>\n",
       "      <td>HONG KONG: Asian markets started 2015 on an up...</td>\n",
       "      <td>1/2/2015</td>\n",
       "      <td>asia stocks up in new year trad</td>\n",
       "      <td>business</td>\n",
       "      <td>HONG KONG: Asian markets started on an upswing...</td>\n",
       "    </tr>\n",
       "    <tr>\n",
       "      <th>2</th>\n",
       "      <td>HONG KONG:  Hong Kong shares opened 0.66 perce...</td>\n",
       "      <td>1/5/2015</td>\n",
       "      <td>hong kong stocks open 0.66 percent lower</td>\n",
       "      <td>business</td>\n",
       "      <td>HONG KONG: Hong Kong shares opened . percent l...</td>\n",
       "    </tr>\n",
       "    <tr>\n",
       "      <th>3</th>\n",
       "      <td>HONG KONG: Asian markets tumbled Tuesday follo...</td>\n",
       "      <td>1/6/2015</td>\n",
       "      <td>asian stocks sink euro near nine year</td>\n",
       "      <td>business</td>\n",
       "      <td>HONG KONG: Asian markets tumbled Tuesday follo...</td>\n",
       "    </tr>\n",
       "    <tr>\n",
       "      <th>4</th>\n",
       "      <td>NEW YORK: US oil prices Monday slipped below $...</td>\n",
       "      <td>1/6/2015</td>\n",
       "      <td>us oil prices slip below 50 a barr</td>\n",
       "      <td>business</td>\n",
       "      <td>NEW YORK: US oil prices Monday slipped below a...</td>\n",
       "    </tr>\n",
       "    <tr>\n",
       "      <th>...</th>\n",
       "      <td>...</td>\n",
       "      <td>...</td>\n",
       "      <td>...</td>\n",
       "      <td>...</td>\n",
       "      <td>...</td>\n",
       "    </tr>\n",
       "    <tr>\n",
       "      <th>2687</th>\n",
       "      <td>strong&gt;DUBAI: Dubai International Airport and ...</td>\n",
       "      <td>3/25/2017</td>\n",
       "      <td>Laptop ban hits Dubai for 11m weekend traveller</td>\n",
       "      <td>business</td>\n",
       "      <td>DUBAI: Dubai International Airport and its fla...</td>\n",
       "    </tr>\n",
       "    <tr>\n",
       "      <th>2688</th>\n",
       "      <td>strong&gt;BEIJING: Former Prime Minister, Shaukat...</td>\n",
       "      <td>3/26/2017</td>\n",
       "      <td>Pak China relations not against any third coun...</td>\n",
       "      <td>business</td>\n",
       "      <td>BEIJING: Former Prime Minister, Shaukat Aziz s...</td>\n",
       "    </tr>\n",
       "    <tr>\n",
       "      <th>2689</th>\n",
       "      <td>strong&gt;WASHINGTON: Uber has grounded its fleet...</td>\n",
       "      <td>3/26/2017</td>\n",
       "      <td>Uber grounds self driving cars after accid</td>\n",
       "      <td>business</td>\n",
       "      <td>WASHINGTON: Uber has grounded its fleet of sel...</td>\n",
       "    </tr>\n",
       "    <tr>\n",
       "      <th>2690</th>\n",
       "      <td>strong&gt;BEIJING: The New Development Bank plans...</td>\n",
       "      <td>3/27/2017</td>\n",
       "      <td>New Development Bank plans joint investments i...</td>\n",
       "      <td>business</td>\n",
       "      <td>BEIJING: The New Development Bank plans to -fi...</td>\n",
       "    </tr>\n",
       "    <tr>\n",
       "      <th>2691</th>\n",
       "      <td>strong&gt;KARACHI: Karachi-based technology incub...</td>\n",
       "      <td>3/27/2017</td>\n",
       "      <td>Google powered Startup Weekend energizing prou...</td>\n",
       "      <td>business</td>\n",
       "      <td>KARACHI: Karachi-based technology incubator, T...</td>\n",
       "    </tr>\n",
       "  </tbody>\n",
       "</table>\n",
       "<p>2692 rows × 5 columns</p>\n",
       "</div>"
      ],
      "text/plain": [
       "                                                Article       Date  \\\n",
       "0     KARACHI: The Sindh government has decided to b...   1/1/2015   \n",
       "1     HONG KONG: Asian markets started 2015 on an up...   1/2/2015   \n",
       "2     HONG KONG:  Hong Kong shares opened 0.66 perce...   1/5/2015   \n",
       "3     HONG KONG: Asian markets tumbled Tuesday follo...   1/6/2015   \n",
       "4     NEW YORK: US oil prices Monday slipped below $...   1/6/2015   \n",
       "...                                                 ...        ...   \n",
       "2687  strong>DUBAI: Dubai International Airport and ...  3/25/2017   \n",
       "2688  strong>BEIJING: Former Prime Minister, Shaukat...  3/26/2017   \n",
       "2689  strong>WASHINGTON: Uber has grounded its fleet...  3/26/2017   \n",
       "2690  strong>BEIJING: The New Development Bank plans...  3/27/2017   \n",
       "2691  strong>KARACHI: Karachi-based technology incub...  3/27/2017   \n",
       "\n",
       "                                                Heading  NewsType  \\\n",
       "0     sindh govt decides to cut public transport far...  business   \n",
       "1                       asia stocks up in new year trad  business   \n",
       "2              hong kong stocks open 0.66 percent lower  business   \n",
       "3                asian stocks sink euro near nine year   business   \n",
       "4                    us oil prices slip below 50 a barr  business   \n",
       "...                                                 ...       ...   \n",
       "2687    Laptop ban hits Dubai for 11m weekend traveller  business   \n",
       "2688  Pak China relations not against any third coun...  business   \n",
       "2689         Uber grounds self driving cars after accid  business   \n",
       "2690  New Development Bank plans joint investments i...  business   \n",
       "2691  Google powered Startup Weekend energizing prou...  business   \n",
       "\n",
       "                                          CleanArticles  \n",
       "0     KARACHI: The Sindh government has decided to b...  \n",
       "1     HONG KONG: Asian markets started on an upswing...  \n",
       "2     HONG KONG: Hong Kong shares opened . percent l...  \n",
       "3     HONG KONG: Asian markets tumbled Tuesday follo...  \n",
       "4     NEW YORK: US oil prices Monday slipped below a...  \n",
       "...                                                 ...  \n",
       "2687  DUBAI: Dubai International Airport and its fla...  \n",
       "2688  BEIJING: Former Prime Minister, Shaukat Aziz s...  \n",
       "2689  WASHINGTON: Uber has grounded its fleet of sel...  \n",
       "2690  BEIJING: The New Development Bank plans to -fi...  \n",
       "2691  KARACHI: Karachi-based technology incubator, T...  \n",
       "\n",
       "[2692 rows x 5 columns]"
      ]
     },
     "execution_count": 14,
     "metadata": {},
     "output_type": "execute_result"
    }
   ],
   "source": [
    "df = pd.read_csv(\"/kaggle/input/articles/Articles.csv\", encoding=\"ISO-8859-1\") # /kaggle/input/news-articles/Articles.csv\n",
    "df = df.dropna()\n",
    "df['CleanArticles'] = df['Article'].apply(lambda text: cleaning(text))\n",
    "df"
   ]
  },
  {
   "cell_type": "code",
   "execution_count": 15,
   "metadata": {
    "execution": {
     "iopub.execute_input": "2024-12-05T08:22:39.976236Z",
     "iopub.status.busy": "2024-12-05T08:22:39.975890Z",
     "iopub.status.idle": "2024-12-05T08:22:39.986043Z",
     "shell.execute_reply": "2024-12-05T08:22:39.985227Z",
     "shell.execute_reply.started": "2024-12-05T08:22:39.976210Z"
    },
    "trusted": true
   },
   "outputs": [
    {
     "name": "stdout",
     "output_type": "stream",
     "text": [
      "Длина train: 1884\n",
      "Длина val: 808\n"
     ]
    }
   ],
   "source": [
    "from sklearn.model_selection import train_test_split\n",
    "\n",
    "texts_prepared = df['CleanArticles']\n",
    "# Разбиение на train, val и test\n",
    "train_texts, val_texts = train_test_split(\n",
    "    texts_prepared,\n",
    "    test_size=0.3,\n",
    "    random_state=42\n",
    ")\n",
    "# val_texts, test_texts = train_test_split(\n",
    "#     temp_texts,\n",
    "#     test_size=0.5,\n",
    "#     random_state=42\n",
    "# )\n",
    "\n",
    "print(f\"Длина train: {len(train_texts)}\")\n",
    "print(f\"Длина val: {len(val_texts)}\")\n",
    "#print(f\"Длина test: {len(test_texts)}\")"
   ]
  },
  {
   "cell_type": "code",
   "execution_count": 16,
   "metadata": {
    "execution": {
     "iopub.execute_input": "2024-12-05T08:22:39.987387Z",
     "iopub.status.busy": "2024-12-05T08:22:39.987124Z",
     "iopub.status.idle": "2024-12-05T08:22:40.010946Z",
     "shell.execute_reply": "2024-12-05T08:22:40.010093Z",
     "shell.execute_reply.started": "2024-12-05T08:22:39.987363Z"
    },
    "trusted": true
   },
   "outputs": [],
   "source": [
    "writer = open('train_texts.txt', 'w')\n",
    "for text in train_texts:\n",
    "    writer.write(text)\n",
    "writer.close()\n",
    "\n",
    "writer = open('val_texts.txt', 'w')\n",
    "for text in val_texts:\n",
    "    writer.write(text)\n",
    "writer.close()"
   ]
  },
  {
   "cell_type": "markdown",
   "metadata": {},
   "source": [
    "## 2 Обучение"
   ]
  },
  {
   "cell_type": "code",
   "execution_count": 17,
   "metadata": {
    "execution": {
     "iopub.execute_input": "2024-12-05T08:22:40.013173Z",
     "iopub.status.busy": "2024-12-05T08:22:40.012148Z",
     "iopub.status.idle": "2024-12-05T08:22:40.017625Z",
     "shell.execute_reply": "2024-12-05T08:22:40.016874Z",
     "shell.execute_reply.started": "2024-12-05T08:22:40.013135Z"
    },
    "trusted": true
   },
   "outputs": [
    {
     "name": "stdout",
     "output_type": "stream",
     "text": [
      "Using cuda\n"
     ]
    }
   ],
   "source": [
    "device = torch.device(\"cuda\" if torch.cuda.is_available() else \"cpu\")\n",
    "print(f\"Using {device}\")"
   ]
  },
  {
   "cell_type": "code",
   "execution_count": 18,
   "metadata": {
    "execution": {
     "iopub.execute_input": "2024-12-05T08:22:40.018843Z",
     "iopub.status.busy": "2024-12-05T08:22:40.018607Z",
     "iopub.status.idle": "2024-12-05T08:22:40.029096Z",
     "shell.execute_reply": "2024-12-05T08:22:40.028340Z",
     "shell.execute_reply.started": "2024-12-05T08:22:40.018820Z"
    },
    "trusted": true
   },
   "outputs": [],
   "source": [
    "from transformers import TextDataset, DataCollatorForLanguageModeling\n",
    "from transformers import AutoTokenizer, AutoModelForCausalLM # GPT2LMHeadModel # GPT2Tokenizer, \n",
    "from transformers import Trainer, TrainingArguments"
   ]
  },
  {
   "cell_type": "code",
   "execution_count": 19,
   "metadata": {
    "execution": {
     "iopub.execute_input": "2024-12-05T08:22:40.030411Z",
     "iopub.status.busy": "2024-12-05T08:22:40.030117Z",
     "iopub.status.idle": "2024-12-05T08:22:40.044974Z",
     "shell.execute_reply": "2024-12-05T08:22:40.044356Z",
     "shell.execute_reply.started": "2024-12-05T08:22:40.030385Z"
    },
    "trusted": true
   },
   "outputs": [],
   "source": [
    "def load_dataset(file_path, tokenizer, block_size = 128):\n",
    "    dataset = TextDataset(\n",
    "        tokenizer = tokenizer,\n",
    "        file_path = file_path,\n",
    "        block_size = block_size,\n",
    "    )\n",
    "    return dataset\n",
    "\n",
    "def load_data_collator(tokenizer, mlm = False):\n",
    "    data_collator = DataCollatorForLanguageModeling(\n",
    "        tokenizer=tokenizer, \n",
    "        mlm=mlm,\n",
    "    )\n",
    "    return data_collator\n",
    "\n",
    "def train(train_dataset,\n",
    "          model,\n",
    "          tokenizer,\n",
    "          output_dir,\n",
    "          overwrite_output_dir,\n",
    "          per_device_train_batch_size,\n",
    "          num_train_epochs,\n",
    "          save_steps,\n",
    "          optimizer,\n",
    "          scheduler,\n",
    "          logging_strategy,\n",
    "          # save_strategy,\n",
    "          slice_train_dataset=None\n",
    "         ):\n",
    "    data_collator = load_data_collator(tokenizer)\n",
    "    tokenizer.save_pretrained(output_dir)\n",
    "    model.save_pretrained(output_dir)\n",
    "\n",
    "    if slice_train_dataset is not None:\n",
    "        train_dataset = train_dataset[:slice_train_dataset]\n",
    "\n",
    "    training_args = TrainingArguments(\n",
    "        output_dir=output_dir,\n",
    "        overwrite_output_dir=overwrite_output_dir,\n",
    "        per_device_train_batch_size=per_device_train_batch_size,\n",
    "        num_train_epochs=num_train_epochs,\n",
    "        logging_strategy='epoch',\n",
    "    )\n",
    "\n",
    "    trainer = Trainer(\n",
    "        model=model,\n",
    "        args=training_args,\n",
    "        data_collator=data_collator,\n",
    "        train_dataset=train_dataset,\n",
    "        optimizers=(optimizer, scheduler)\n",
    "    )\n",
    "\n",
    "    trainer.train()\n",
    "    trainer.save_model()\n",
    "\n",
    "    return trainer.state"
   ]
  },
  {
   "cell_type": "markdown",
   "metadata": {},
   "source": [
    "### Optimizer - Adam, без scheduler'а"
   ]
  },
  {
   "cell_type": "code",
   "execution_count": 22,
   "metadata": {
    "execution": {
     "iopub.execute_input": "2024-12-05T08:28:11.182718Z",
     "iopub.status.busy": "2024-12-05T08:28:11.182379Z",
     "iopub.status.idle": "2024-12-05T08:28:11.866388Z",
     "shell.execute_reply": "2024-12-05T08:28:11.865607Z",
     "shell.execute_reply.started": "2024-12-05T08:28:11.182688Z"
    },
    "trusted": true
   },
   "outputs": [
    {
     "name": "stderr",
     "output_type": "stream",
     "text": [
      "/opt/conda/lib/python3.10/site-packages/transformers/data/datasets/language_modeling.py:53: FutureWarning: This dataset will be removed from the library soon, preprocessing should be handled with the 🤗 Datasets library. You can have a look at this example script for pointers: https://github.com/huggingface/transformers/blob/main/examples/pytorch/language-modeling/run_mlm.py\n",
      "  warnings.warn(\n"
     ]
    }
   ],
   "source": [
    "train_file_path = \"train_texts.txt\"\n",
    "model_name = 'gpt2'\n",
    "model_adam_no_scheduler_dir = '/model_adam_no_scheduler' #'/kaggle/working/model_adam_no_scheduler'\n",
    "overwrite_output_dir = False\n",
    "per_device_train_batch_size = 8\n",
    "num_train_epochs = 10.0\n",
    "save_steps = 500\n",
    "seq_len = 2**7\n",
    "logging_strategy='epoch'\n",
    "save_strategy='epoch'\n",
    "# slice_train_dataset=500\n",
    "\n",
    "tokenizer = AutoTokenizer.from_pretrained(\"gpt2\")\n",
    "train_dataset = load_dataset(train_file_path, tokenizer, seq_len)\n",
    "model_adam_no_scheduler = AutoModelForCausalLM.from_pretrained(model_name)\n",
    "optimizer = torch.optim.AdamW(model_adam_no_scheduler.parameters(), lr=5e-5)\n",
    "scheduler = None"
   ]
  },
  {
   "cell_type": "code",
   "execution_count": null,
   "metadata": {},
   "outputs": [],
   "source": [
    "import time"
   ]
  },
  {
   "cell_type": "code",
   "execution_count": null,
   "metadata": {
    "execution": {
     "iopub.execute_input": "2024-12-05T08:28:23.970872Z",
     "iopub.status.busy": "2024-12-05T08:28:23.970524Z",
     "iopub.status.idle": "2024-12-05T08:54:49.617450Z",
     "shell.execute_reply": "2024-12-05T08:54:49.616497Z",
     "shell.execute_reply.started": "2024-12-05T08:28:23.970839Z"
    },
    "trusted": true
   },
   "outputs": [
    {
     "name": "stderr",
     "output_type": "stream",
     "text": [
      "\u001b[34m\u001b[1mwandb\u001b[0m: Logging into wandb.ai. (Learn how to deploy a W&B server locally: https://wandb.me/wandb-server)\n",
      "\u001b[34m\u001b[1mwandb\u001b[0m: You can find your API key in your browser here: https://wandb.ai/authorize\n",
      "\u001b[34m\u001b[1mwandb\u001b[0m: Paste an API key from your profile and hit enter, or press ctrl+c to quit:"
     ]
    },
    {
     "name": "stdout",
     "output_type": "stream",
     "text": [
      "  ········\n"
     ]
    },
    {
     "name": "stderr",
     "output_type": "stream",
     "text": [
      "\u001b[34m\u001b[1mwandb\u001b[0m: Appending key for api.wandb.ai to your netrc file: /root/.netrc\n"
     ]
    },
    {
     "data": {
      "text/html": [
       "Tracking run with wandb version 0.18.7"
      ],
      "text/plain": [
       "<IPython.core.display.HTML object>"
      ]
     },
     "metadata": {},
     "output_type": "display_data"
    },
    {
     "data": {
      "text/html": [
       "Run data is saved locally in <code>/kaggle/working/wandb/run-20241205_082828-d6j18qyn</code>"
      ],
      "text/plain": [
       "<IPython.core.display.HTML object>"
      ]
     },
     "metadata": {},
     "output_type": "display_data"
    },
    {
     "data": {
      "text/html": [
       "Syncing run <strong><a href='https://wandb.ai/borodajmaksim2-itmo-university/huggingface/runs/d6j18qyn' target=\"_blank\">/model_adam_no_scheduler</a></strong> to <a href='https://wandb.ai/borodajmaksim2-itmo-university/huggingface' target=\"_blank\">Weights & Biases</a> (<a href='https://wandb.me/developer-guide' target=\"_blank\">docs</a>)<br/>"
      ],
      "text/plain": [
       "<IPython.core.display.HTML object>"
      ]
     },
     "metadata": {},
     "output_type": "display_data"
    },
    {
     "data": {
      "text/html": [
       " View project at <a href='https://wandb.ai/borodajmaksim2-itmo-university/huggingface' target=\"_blank\">https://wandb.ai/borodajmaksim2-itmo-university/huggingface</a>"
      ],
      "text/plain": [
       "<IPython.core.display.HTML object>"
      ]
     },
     "metadata": {},
     "output_type": "display_data"
    },
    {
     "data": {
      "text/html": [
       " View run at <a href='https://wandb.ai/borodajmaksim2-itmo-university/huggingface/runs/d6j18qyn' target=\"_blank\">https://wandb.ai/borodajmaksim2-itmo-university/huggingface/runs/d6j18qyn</a>"
      ],
      "text/plain": [
       "<IPython.core.display.HTML object>"
      ]
     },
     "metadata": {},
     "output_type": "display_data"
    },
    {
     "name": "stderr",
     "output_type": "stream",
     "text": [
      "/opt/conda/lib/python3.10/site-packages/torch/nn/parallel/parallel_apply.py:79: FutureWarning: `torch.cuda.amp.autocast(args...)` is deprecated. Please use `torch.amp.autocast('cuda', args...)` instead.\n",
      "  with torch.cuda.device(device), torch.cuda.stream(stream), autocast(enabled=autocast_enabled):\n",
      "/opt/conda/lib/python3.10/site-packages/torch/nn/parallel/_functions.py:68: UserWarning: Was asked to gather along dimension 0, but all input tensors were scalars; will instead unsqueeze and return a vector.\n",
      "  warnings.warn('Was asked to gather along dimension 0, but all '\n"
     ]
    },
    {
     "data": {
      "text/html": [
       "\n",
       "    <div>\n",
       "      \n",
       "      <progress value='3500' max='3500' style='width:300px; height:20px; vertical-align: middle;'></progress>\n",
       "      [3500/3500 26:14, Epoch 10/10]\n",
       "    </div>\n",
       "    <table border=\"1\" class=\"dataframe\">\n",
       "  <thead>\n",
       " <tr style=\"text-align: left;\">\n",
       "      <th>Step</th>\n",
       "      <th>Training Loss</th>\n",
       "    </tr>\n",
       "  </thead>\n",
       "  <tbody>\n",
       "    <tr>\n",
       "      <td>350</td>\n",
       "      <td>3.696700</td>\n",
       "    </tr>\n",
       "    <tr>\n",
       "      <td>700</td>\n",
       "      <td>3.313900</td>\n",
       "    </tr>\n",
       "    <tr>\n",
       "      <td>1050</td>\n",
       "      <td>3.135900</td>\n",
       "    </tr>\n",
       "    <tr>\n",
       "      <td>1400</td>\n",
       "      <td>3.007600</td>\n",
       "    </tr>\n",
       "    <tr>\n",
       "      <td>1750</td>\n",
       "      <td>2.907200</td>\n",
       "    </tr>\n",
       "    <tr>\n",
       "      <td>2100</td>\n",
       "      <td>2.825000</td>\n",
       "    </tr>\n",
       "    <tr>\n",
       "      <td>2450</td>\n",
       "      <td>2.762800</td>\n",
       "    </tr>\n",
       "    <tr>\n",
       "      <td>2800</td>\n",
       "      <td>2.713000</td>\n",
       "    </tr>\n",
       "    <tr>\n",
       "      <td>3150</td>\n",
       "      <td>2.677100</td>\n",
       "    </tr>\n",
       "    <tr>\n",
       "      <td>3500</td>\n",
       "      <td>2.654300</td>\n",
       "    </tr>\n",
       "  </tbody>\n",
       "</table><p>"
      ],
      "text/plain": [
       "<IPython.core.display.HTML object>"
      ]
     },
     "metadata": {},
     "output_type": "display_data"
    },
    {
     "name": "stderr",
     "output_type": "stream",
     "text": [
      "/opt/conda/lib/python3.10/site-packages/torch/nn/parallel/parallel_apply.py:79: FutureWarning: `torch.cuda.amp.autocast(args...)` is deprecated. Please use `torch.amp.autocast('cuda', args...)` instead.\n",
      "  with torch.cuda.device(device), torch.cuda.stream(stream), autocast(enabled=autocast_enabled):\n",
      "/opt/conda/lib/python3.10/site-packages/torch/nn/parallel/_functions.py:68: UserWarning: Was asked to gather along dimension 0, but all input tensors were scalars; will instead unsqueeze and return a vector.\n",
      "  warnings.warn('Was asked to gather along dimension 0, but all '\n",
      "/opt/conda/lib/python3.10/site-packages/torch/nn/parallel/parallel_apply.py:79: FutureWarning: `torch.cuda.amp.autocast(args...)` is deprecated. Please use `torch.amp.autocast('cuda', args...)` instead.\n",
      "  with torch.cuda.device(device), torch.cuda.stream(stream), autocast(enabled=autocast_enabled):\n",
      "/opt/conda/lib/python3.10/site-packages/torch/nn/parallel/_functions.py:68: UserWarning: Was asked to gather along dimension 0, but all input tensors were scalars; will instead unsqueeze and return a vector.\n",
      "  warnings.warn('Was asked to gather along dimension 0, but all '\n",
      "/opt/conda/lib/python3.10/site-packages/torch/nn/parallel/parallel_apply.py:79: FutureWarning: `torch.cuda.amp.autocast(args...)` is deprecated. Please use `torch.amp.autocast('cuda', args...)` instead.\n",
      "  with torch.cuda.device(device), torch.cuda.stream(stream), autocast(enabled=autocast_enabled):\n",
      "/opt/conda/lib/python3.10/site-packages/torch/nn/parallel/_functions.py:68: UserWarning: Was asked to gather along dimension 0, but all input tensors were scalars; will instead unsqueeze and return a vector.\n",
      "  warnings.warn('Was asked to gather along dimension 0, but all '\n",
      "/opt/conda/lib/python3.10/site-packages/torch/nn/parallel/parallel_apply.py:79: FutureWarning: `torch.cuda.amp.autocast(args...)` is deprecated. Please use `torch.amp.autocast('cuda', args...)` instead.\n",
      "  with torch.cuda.device(device), torch.cuda.stream(stream), autocast(enabled=autocast_enabled):\n",
      "/opt/conda/lib/python3.10/site-packages/torch/nn/parallel/_functions.py:68: UserWarning: Was asked to gather along dimension 0, but all input tensors were scalars; will instead unsqueeze and return a vector.\n",
      "  warnings.warn('Was asked to gather along dimension 0, but all '\n",
      "/opt/conda/lib/python3.10/site-packages/torch/nn/parallel/parallel_apply.py:79: FutureWarning: `torch.cuda.amp.autocast(args...)` is deprecated. Please use `torch.amp.autocast('cuda', args...)` instead.\n",
      "  with torch.cuda.device(device), torch.cuda.stream(stream), autocast(enabled=autocast_enabled):\n",
      "/opt/conda/lib/python3.10/site-packages/torch/nn/parallel/_functions.py:68: UserWarning: Was asked to gather along dimension 0, but all input tensors were scalars; will instead unsqueeze and return a vector.\n",
      "  warnings.warn('Was asked to gather along dimension 0, but all '\n",
      "/opt/conda/lib/python3.10/site-packages/torch/nn/parallel/parallel_apply.py:79: FutureWarning: `torch.cuda.amp.autocast(args...)` is deprecated. Please use `torch.amp.autocast('cuda', args...)` instead.\n",
      "  with torch.cuda.device(device), torch.cuda.stream(stream), autocast(enabled=autocast_enabled):\n",
      "/opt/conda/lib/python3.10/site-packages/torch/nn/parallel/_functions.py:68: UserWarning: Was asked to gather along dimension 0, but all input tensors were scalars; will instead unsqueeze and return a vector.\n",
      "  warnings.warn('Was asked to gather along dimension 0, but all '\n"
     ]
    },
    {
     "name": "stdout",
     "output_type": "stream",
     "text": [
      "Время обучения модели: 26.43 мин\n"
     ]
    }
   ],
   "source": [
    "start = time.time()\n",
    "logs_adam_no_scheduler = train(\n",
    "    train_dataset=train_dataset,\n",
    "    model=model_adam_no_scheduler,\n",
    "    tokenizer=tokenizer,\n",
    "    output_dir=model_adam_no_scheduler_dir,\n",
    "    overwrite_output_dir=overwrite_output_dir,\n",
    "    per_device_train_batch_size=per_device_train_batch_size,\n",
    "    num_train_epochs=num_train_epochs,\n",
    "    save_steps=save_steps,\n",
    "    optimizer=optimizer,\n",
    "    scheduler=scheduler,\n",
    "    logging_strategy=logging_strategy,\n",
    "    # save_strategy=save_strategy,\n",
    "    # slice_train_dataset=slice_train_dataset\n",
    ")\n",
    "finish = time.time()\n",
    "res_time1 = (finish - start)/60\n",
    "print(f'Время обучения модели: {round(res_time1, 2)} мин')"
   ]
  },
  {
   "cell_type": "code",
   "execution_count": 25,
   "metadata": {
    "execution": {
     "iopub.execute_input": "2024-12-05T08:54:49.619442Z",
     "iopub.status.busy": "2024-12-05T08:54:49.619144Z",
     "iopub.status.idle": "2024-12-05T08:54:49.627255Z",
     "shell.execute_reply": "2024-12-05T08:54:49.626493Z",
     "shell.execute_reply.started": "2024-12-05T08:54:49.619416Z"
    },
    "trusted": true
   },
   "outputs": [
    {
     "data": {
      "text/plain": [
       "[{'loss': 3.6967,\n",
       "  'grad_norm': 7.990057945251465,\n",
       "  'learning_rate': 4.5e-05,\n",
       "  'epoch': 1.0,\n",
       "  'step': 350},\n",
       " {'loss': 3.3139,\n",
       "  'grad_norm': 6.965691089630127,\n",
       "  'learning_rate': 4e-05,\n",
       "  'epoch': 2.0,\n",
       "  'step': 700},\n",
       " {'loss': 3.1359,\n",
       "  'grad_norm': 8.205936431884766,\n",
       "  'learning_rate': 3.5e-05,\n",
       "  'epoch': 3.0,\n",
       "  'step': 1050},\n",
       " {'loss': 3.0076,\n",
       "  'grad_norm': 7.032474040985107,\n",
       "  'learning_rate': 3e-05,\n",
       "  'epoch': 4.0,\n",
       "  'step': 1400},\n",
       " {'loss': 2.9072,\n",
       "  'grad_norm': 7.0717549324035645,\n",
       "  'learning_rate': 2.5e-05,\n",
       "  'epoch': 5.0,\n",
       "  'step': 1750},\n",
       " {'loss': 2.825,\n",
       "  'grad_norm': 6.947563648223877,\n",
       "  'learning_rate': 2e-05,\n",
       "  'epoch': 6.0,\n",
       "  'step': 2100},\n",
       " {'loss': 2.7628,\n",
       "  'grad_norm': 7.126166343688965,\n",
       "  'learning_rate': 1.5e-05,\n",
       "  'epoch': 7.0,\n",
       "  'step': 2450},\n",
       " {'loss': 2.713,\n",
       "  'grad_norm': 7.5532026290893555,\n",
       "  'learning_rate': 1e-05,\n",
       "  'epoch': 8.0,\n",
       "  'step': 2800},\n",
       " {'loss': 2.6771,\n",
       "  'grad_norm': 6.752681255340576,\n",
       "  'learning_rate': 5e-06,\n",
       "  'epoch': 9.0,\n",
       "  'step': 3150},\n",
       " {'loss': 2.6543,\n",
       "  'grad_norm': 6.674240589141846,\n",
       "  'learning_rate': 0.0,\n",
       "  'epoch': 10.0,\n",
       "  'step': 3500},\n",
       " {'train_runtime': 1581.6992,\n",
       "  'train_samples_per_second': 35.335,\n",
       "  'train_steps_per_second': 2.213,\n",
       "  'total_flos': 3650902917120000.0,\n",
       "  'train_loss': 2.969346662248884,\n",
       "  'epoch': 10.0,\n",
       "  'step': 3500}]"
      ]
     },
     "execution_count": 25,
     "metadata": {},
     "output_type": "execute_result"
    }
   ],
   "source": [
    "logs_adam_no_scheduler.log_history"
   ]
  },
  {
   "cell_type": "markdown",
   "metadata": {},
   "source": [
    "### Optimizer - Adam, с scheduler'ом linear"
   ]
  },
  {
   "cell_type": "code",
   "execution_count": 28,
   "metadata": {
    "execution": {
     "iopub.execute_input": "2024-12-05T08:58:17.463156Z",
     "iopub.status.busy": "2024-12-05T08:58:17.462772Z",
     "iopub.status.idle": "2024-12-05T08:58:17.772559Z",
     "shell.execute_reply": "2024-12-05T08:58:17.771453Z",
     "shell.execute_reply.started": "2024-12-05T08:58:17.463126Z"
    },
    "trusted": true
   },
   "outputs": [],
   "source": [
    "from transformers import get_linear_schedule_with_warmup\n",
    "\n",
    "model_adam_linear_dir = '/model_adam_linear'\n",
    "model_adam_linear = AutoModelForCausalLM.from_pretrained(model_name)\n",
    "optimizer = torch.optim.AdamW(model_adam_linear.parameters(), lr=5e-5)\n",
    "# Инициализация scheduler'а\n",
    "total_steps = len(train_dataset)*num_train_epochs\n",
    "scheduler = get_linear_schedule_with_warmup(optimizer, num_warmup_steps=100, num_training_steps=total_steps)"
   ]
  },
  {
   "cell_type": "code",
   "execution_count": 29,
   "metadata": {
    "execution": {
     "iopub.execute_input": "2024-12-05T08:58:19.302454Z",
     "iopub.status.busy": "2024-12-05T08:58:19.302038Z",
     "iopub.status.idle": "2024-12-05T09:24:55.788670Z",
     "shell.execute_reply": "2024-12-05T09:24:55.787749Z",
     "shell.execute_reply.started": "2024-12-05T08:58:19.302419Z"
    },
    "trusted": true
   },
   "outputs": [
    {
     "name": "stderr",
     "output_type": "stream",
     "text": [
      "/opt/conda/lib/python3.10/site-packages/torch/nn/parallel/parallel_apply.py:79: FutureWarning: `torch.cuda.amp.autocast(args...)` is deprecated. Please use `torch.amp.autocast('cuda', args...)` instead.\n",
      "  with torch.cuda.device(device), torch.cuda.stream(stream), autocast(enabled=autocast_enabled):\n",
      "/opt/conda/lib/python3.10/site-packages/torch/nn/parallel/_functions.py:68: UserWarning: Was asked to gather along dimension 0, but all input tensors were scalars; will instead unsqueeze and return a vector.\n",
      "  warnings.warn('Was asked to gather along dimension 0, but all '\n"
     ]
    },
    {
     "data": {
      "text/html": [
       "\n",
       "    <div>\n",
       "      \n",
       "      <progress value='3500' max='3500' style='width:300px; height:20px; vertical-align: middle;'></progress>\n",
       "      [3500/3500 26:32, Epoch 10/10]\n",
       "    </div>\n",
       "    <table border=\"1\" class=\"dataframe\">\n",
       "  <thead>\n",
       " <tr style=\"text-align: left;\">\n",
       "      <th>Step</th>\n",
       "      <th>Training Loss</th>\n",
       "    </tr>\n",
       "  </thead>\n",
       "  <tbody>\n",
       "    <tr>\n",
       "      <td>350</td>\n",
       "      <td>3.800000</td>\n",
       "    </tr>\n",
       "    <tr>\n",
       "      <td>700</td>\n",
       "      <td>3.339700</td>\n",
       "    </tr>\n",
       "    <tr>\n",
       "      <td>1050</td>\n",
       "      <td>3.136500</td>\n",
       "    </tr>\n",
       "    <tr>\n",
       "      <td>1400</td>\n",
       "      <td>2.978600</td>\n",
       "    </tr>\n",
       "    <tr>\n",
       "      <td>1750</td>\n",
       "      <td>2.842400</td>\n",
       "    </tr>\n",
       "    <tr>\n",
       "      <td>2100</td>\n",
       "      <td>2.717400</td>\n",
       "    </tr>\n",
       "    <tr>\n",
       "      <td>2450</td>\n",
       "      <td>2.603800</td>\n",
       "    </tr>\n",
       "    <tr>\n",
       "      <td>2800</td>\n",
       "      <td>2.496200</td>\n",
       "    </tr>\n",
       "    <tr>\n",
       "      <td>3150</td>\n",
       "      <td>2.394900</td>\n",
       "    </tr>\n",
       "    <tr>\n",
       "      <td>3500</td>\n",
       "      <td>2.299500</td>\n",
       "    </tr>\n",
       "  </tbody>\n",
       "</table><p>"
      ],
      "text/plain": [
       "<IPython.core.display.HTML object>"
      ]
     },
     "metadata": {},
     "output_type": "display_data"
    },
    {
     "name": "stderr",
     "output_type": "stream",
     "text": [
      "/opt/conda/lib/python3.10/site-packages/torch/nn/parallel/parallel_apply.py:79: FutureWarning: `torch.cuda.amp.autocast(args...)` is deprecated. Please use `torch.amp.autocast('cuda', args...)` instead.\n",
      "  with torch.cuda.device(device), torch.cuda.stream(stream), autocast(enabled=autocast_enabled):\n",
      "/opt/conda/lib/python3.10/site-packages/torch/nn/parallel/_functions.py:68: UserWarning: Was asked to gather along dimension 0, but all input tensors were scalars; will instead unsqueeze and return a vector.\n",
      "  warnings.warn('Was asked to gather along dimension 0, but all '\n",
      "/opt/conda/lib/python3.10/site-packages/torch/nn/parallel/parallel_apply.py:79: FutureWarning: `torch.cuda.amp.autocast(args...)` is deprecated. Please use `torch.amp.autocast('cuda', args...)` instead.\n",
      "  with torch.cuda.device(device), torch.cuda.stream(stream), autocast(enabled=autocast_enabled):\n",
      "/opt/conda/lib/python3.10/site-packages/torch/nn/parallel/_functions.py:68: UserWarning: Was asked to gather along dimension 0, but all input tensors were scalars; will instead unsqueeze and return a vector.\n",
      "  warnings.warn('Was asked to gather along dimension 0, but all '\n",
      "/opt/conda/lib/python3.10/site-packages/torch/nn/parallel/parallel_apply.py:79: FutureWarning: `torch.cuda.amp.autocast(args...)` is deprecated. Please use `torch.amp.autocast('cuda', args...)` instead.\n",
      "  with torch.cuda.device(device), torch.cuda.stream(stream), autocast(enabled=autocast_enabled):\n",
      "/opt/conda/lib/python3.10/site-packages/torch/nn/parallel/_functions.py:68: UserWarning: Was asked to gather along dimension 0, but all input tensors were scalars; will instead unsqueeze and return a vector.\n",
      "  warnings.warn('Was asked to gather along dimension 0, but all '\n",
      "/opt/conda/lib/python3.10/site-packages/torch/nn/parallel/parallel_apply.py:79: FutureWarning: `torch.cuda.amp.autocast(args...)` is deprecated. Please use `torch.amp.autocast('cuda', args...)` instead.\n",
      "  with torch.cuda.device(device), torch.cuda.stream(stream), autocast(enabled=autocast_enabled):\n",
      "/opt/conda/lib/python3.10/site-packages/torch/nn/parallel/_functions.py:68: UserWarning: Was asked to gather along dimension 0, but all input tensors were scalars; will instead unsqueeze and return a vector.\n",
      "  warnings.warn('Was asked to gather along dimension 0, but all '\n",
      "/opt/conda/lib/python3.10/site-packages/torch/nn/parallel/parallel_apply.py:79: FutureWarning: `torch.cuda.amp.autocast(args...)` is deprecated. Please use `torch.amp.autocast('cuda', args...)` instead.\n",
      "  with torch.cuda.device(device), torch.cuda.stream(stream), autocast(enabled=autocast_enabled):\n",
      "/opt/conda/lib/python3.10/site-packages/torch/nn/parallel/_functions.py:68: UserWarning: Was asked to gather along dimension 0, but all input tensors were scalars; will instead unsqueeze and return a vector.\n",
      "  warnings.warn('Was asked to gather along dimension 0, but all '\n",
      "/opt/conda/lib/python3.10/site-packages/torch/nn/parallel/parallel_apply.py:79: FutureWarning: `torch.cuda.amp.autocast(args...)` is deprecated. Please use `torch.amp.autocast('cuda', args...)` instead.\n",
      "  with torch.cuda.device(device), torch.cuda.stream(stream), autocast(enabled=autocast_enabled):\n",
      "/opt/conda/lib/python3.10/site-packages/torch/nn/parallel/_functions.py:68: UserWarning: Was asked to gather along dimension 0, but all input tensors were scalars; will instead unsqueeze and return a vector.\n",
      "  warnings.warn('Was asked to gather along dimension 0, but all '\n"
     ]
    },
    {
     "name": "stdout",
     "output_type": "stream",
     "text": [
      "Время обучения модели: 26.61 мин\n"
     ]
    }
   ],
   "source": [
    "start = time.time()\n",
    "logs_adam_linear = train(\n",
    "    train_dataset=train_dataset,\n",
    "    model=model_adam_linear,\n",
    "    tokenizer=tokenizer,\n",
    "    output_dir=model_adam_linear_dir,\n",
    "    overwrite_output_dir=overwrite_output_dir,\n",
    "    per_device_train_batch_size=per_device_train_batch_size,\n",
    "    num_train_epochs=num_train_epochs,\n",
    "    save_steps=save_steps,\n",
    "    optimizer=optimizer,\n",
    "    scheduler=scheduler,\n",
    "    logging_strategy=logging_strategy,\n",
    "    # save_strategy=save_strategy,\n",
    ")\n",
    "finish = time.time()\n",
    "res_time2 = (finish - start)/60\n",
    "print(f'Время обучения модели: {round(res_time2, 2)} мин')"
   ]
  },
  {
   "cell_type": "code",
   "execution_count": 34,
   "metadata": {
    "execution": {
     "iopub.execute_input": "2024-12-05T09:30:57.768886Z",
     "iopub.status.busy": "2024-12-05T09:30:57.767901Z",
     "iopub.status.idle": "2024-12-05T09:30:57.775681Z",
     "shell.execute_reply": "2024-12-05T09:30:57.774869Z",
     "shell.execute_reply.started": "2024-12-05T09:30:57.768828Z"
    },
    "trusted": true
   },
   "outputs": [
    {
     "data": {
      "text/plain": [
       "TrainerState(epoch=10.0, global_step=3500, max_steps=3500, logging_steps=500, eval_steps=500, save_steps=500, train_batch_size=16, num_train_epochs=10, num_input_tokens_seen=0, total_flos=3650902917120000.0, log_history=[{'loss': 3.8, 'grad_norm': 8.968942642211914, 'learning_rate': 4.977594550994802e-05, 'epoch': 1.0, 'step': 350}, {'loss': 3.3397, 'grad_norm': 7.491008281707764, 'learning_rate': 4.9462269223875244e-05, 'epoch': 2.0, 'step': 700}, {'loss': 3.1365, 'grad_norm': 8.509921073913574, 'learning_rate': 4.914859293780247e-05, 'epoch': 3.0, 'step': 1050}, {'loss': 2.9786, 'grad_norm': 6.852645397186279, 'learning_rate': 4.88349166517297e-05, 'epoch': 4.0, 'step': 1400}, {'loss': 2.8424, 'grad_norm': 6.740859031677246, 'learning_rate': 4.852124036565693e-05, 'epoch': 5.0, 'step': 1750}, {'loss': 2.7174, 'grad_norm': 6.098780155181885, 'learning_rate': 4.820756407958416e-05, 'epoch': 6.0, 'step': 2100}, {'loss': 2.6038, 'grad_norm': 6.201688766479492, 'learning_rate': 4.7893887793511385e-05, 'epoch': 7.0, 'step': 2450}, {'loss': 2.4962, 'grad_norm': 6.252501487731934, 'learning_rate': 4.758021150743861e-05, 'epoch': 8.0, 'step': 2800}, {'loss': 2.3949, 'grad_norm': 5.371161937713623, 'learning_rate': 4.7266535221365835e-05, 'epoch': 9.0, 'step': 3150}, {'loss': 2.2995, 'grad_norm': 5.336930274963379, 'learning_rate': 4.695285893529306e-05, 'epoch': 10.0, 'step': 3500}, {'train_runtime': 1593.1198, 'train_samples_per_second': 35.082, 'train_steps_per_second': 2.197, 'total_flos': 3650902917120000.0, 'train_loss': 2.860899640764509, 'epoch': 10.0, 'step': 3500}], best_metric=None, best_model_checkpoint=None, is_local_process_zero=True, is_world_process_zero=True, is_hyper_param_search=False, trial_name=None, trial_params=None, stateful_callbacks={'TrainerControl': {'args': {'should_training_stop': True, 'should_epoch_stop': False, 'should_save': True, 'should_evaluate': False, 'should_log': False}, 'attributes': {}}})"
      ]
     },
     "execution_count": 34,
     "metadata": {},
     "output_type": "execute_result"
    }
   ],
   "source": [
    "logs_adam_linear"
   ]
  },
  {
   "cell_type": "code",
   "execution_count": 33,
   "metadata": {
    "execution": {
     "iopub.execute_input": "2024-12-05T09:30:52.092214Z",
     "iopub.status.busy": "2024-12-05T09:30:52.091847Z",
     "iopub.status.idle": "2024-12-05T09:30:52.100490Z",
     "shell.execute_reply": "2024-12-05T09:30:52.099532Z",
     "shell.execute_reply.started": "2024-12-05T09:30:52.092180Z"
    },
    "trusted": true
   },
   "outputs": [
    {
     "data": {
      "text/plain": [
       "[{'loss': 3.8,\n",
       "  'grad_norm': 8.968942642211914,\n",
       "  'learning_rate': 4.977594550994802e-05,\n",
       "  'epoch': 1.0,\n",
       "  'step': 350},\n",
       " {'loss': 3.3397,\n",
       "  'grad_norm': 7.491008281707764,\n",
       "  'learning_rate': 4.9462269223875244e-05,\n",
       "  'epoch': 2.0,\n",
       "  'step': 700},\n",
       " {'loss': 3.1365,\n",
       "  'grad_norm': 8.509921073913574,\n",
       "  'learning_rate': 4.914859293780247e-05,\n",
       "  'epoch': 3.0,\n",
       "  'step': 1050},\n",
       " {'loss': 2.9786,\n",
       "  'grad_norm': 6.852645397186279,\n",
       "  'learning_rate': 4.88349166517297e-05,\n",
       "  'epoch': 4.0,\n",
       "  'step': 1400},\n",
       " {'loss': 2.8424,\n",
       "  'grad_norm': 6.740859031677246,\n",
       "  'learning_rate': 4.852124036565693e-05,\n",
       "  'epoch': 5.0,\n",
       "  'step': 1750},\n",
       " {'loss': 2.7174,\n",
       "  'grad_norm': 6.098780155181885,\n",
       "  'learning_rate': 4.820756407958416e-05,\n",
       "  'epoch': 6.0,\n",
       "  'step': 2100},\n",
       " {'loss': 2.6038,\n",
       "  'grad_norm': 6.201688766479492,\n",
       "  'learning_rate': 4.7893887793511385e-05,\n",
       "  'epoch': 7.0,\n",
       "  'step': 2450},\n",
       " {'loss': 2.4962,\n",
       "  'grad_norm': 6.252501487731934,\n",
       "  'learning_rate': 4.758021150743861e-05,\n",
       "  'epoch': 8.0,\n",
       "  'step': 2800},\n",
       " {'loss': 2.3949,\n",
       "  'grad_norm': 5.371161937713623,\n",
       "  'learning_rate': 4.7266535221365835e-05,\n",
       "  'epoch': 9.0,\n",
       "  'step': 3150},\n",
       " {'loss': 2.2995,\n",
       "  'grad_norm': 5.336930274963379,\n",
       "  'learning_rate': 4.695285893529306e-05,\n",
       "  'epoch': 10.0,\n",
       "  'step': 3500},\n",
       " {'train_runtime': 1593.1198,\n",
       "  'train_samples_per_second': 35.082,\n",
       "  'train_steps_per_second': 2.197,\n",
       "  'total_flos': 3650902917120000.0,\n",
       "  'train_loss': 2.860899640764509,\n",
       "  'epoch': 10.0,\n",
       "  'step': 3500}]"
      ]
     },
     "execution_count": 33,
     "metadata": {},
     "output_type": "execute_result"
    }
   ],
   "source": [
    "logs_adam_linear.log_history"
   ]
  },
  {
   "cell_type": "markdown",
   "metadata": {},
   "source": [
    "### Optimizer - SGD, без scheduler'а"
   ]
  },
  {
   "cell_type": "code",
   "execution_count": 75,
   "metadata": {
    "execution": {
     "iopub.execute_input": "2024-12-05T12:46:21.105704Z",
     "iopub.status.busy": "2024-12-05T12:46:21.105468Z",
     "iopub.status.idle": "2024-12-05T12:46:21.535392Z",
     "shell.execute_reply": "2024-12-05T12:46:21.534622Z",
     "shell.execute_reply.started": "2024-12-05T12:46:21.105675Z"
    },
    "trusted": true
   },
   "outputs": [],
   "source": [
    "model_sgd_no_scheduler_dir = '/model_sgd_no_scheduler'\n",
    "# Инициализация модели и оптимизатора\n",
    "model_sgd_no_scheduler = AutoModelForCausalLM.from_pretrained(model_name)\n",
    "optimizer = torch.optim.SGD(model_sgd_no_scheduler.parameters(), lr=1e-4) # при 1e-5 сходилось уж слишком медленно P.S. Уменьшение lr до 1e-4 не сильно помогло\n",
    "scheduler = None  # Без scheduler'а"
   ]
  },
  {
   "cell_type": "code",
   "execution_count": 51,
   "metadata": {
    "execution": {
     "iopub.execute_input": "2024-12-05T11:27:54.335157Z",
     "iopub.status.busy": "2024-12-05T11:27:54.334429Z",
     "iopub.status.idle": "2024-12-05T11:52:30.757390Z",
     "shell.execute_reply": "2024-12-05T11:52:30.756260Z",
     "shell.execute_reply.started": "2024-12-05T11:27:54.335121Z"
    },
    "trusted": true
   },
   "outputs": [
    {
     "name": "stderr",
     "output_type": "stream",
     "text": [
      "/opt/conda/lib/python3.10/site-packages/torch/nn/parallel/parallel_apply.py:79: FutureWarning: `torch.cuda.amp.autocast(args...)` is deprecated. Please use `torch.amp.autocast('cuda', args...)` instead.\n",
      "  with torch.cuda.device(device), torch.cuda.stream(stream), autocast(enabled=autocast_enabled):\n",
      "/opt/conda/lib/python3.10/site-packages/torch/nn/parallel/_functions.py:68: UserWarning: Was asked to gather along dimension 0, but all input tensors were scalars; will instead unsqueeze and return a vector.\n",
      "  warnings.warn('Was asked to gather along dimension 0, but all '\n"
     ]
    },
    {
     "data": {
      "text/html": [
       "\n",
       "    <div>\n",
       "      \n",
       "      <progress value='3500' max='3500' style='width:300px; height:20px; vertical-align: middle;'></progress>\n",
       "      [3500/3500 24:32, Epoch 10/10]\n",
       "    </div>\n",
       "    <table border=\"1\" class=\"dataframe\">\n",
       "  <thead>\n",
       " <tr style=\"text-align: left;\">\n",
       "      <th>Step</th>\n",
       "      <th>Training Loss</th>\n",
       "    </tr>\n",
       "  </thead>\n",
       "  <tbody>\n",
       "    <tr>\n",
       "      <td>350</td>\n",
       "      <td>4.523300</td>\n",
       "    </tr>\n",
       "    <tr>\n",
       "      <td>700</td>\n",
       "      <td>4.464300</td>\n",
       "    </tr>\n",
       "    <tr>\n",
       "      <td>1050</td>\n",
       "      <td>4.426700</td>\n",
       "    </tr>\n",
       "    <tr>\n",
       "      <td>1400</td>\n",
       "      <td>4.401000</td>\n",
       "    </tr>\n",
       "    <tr>\n",
       "      <td>1750</td>\n",
       "      <td>4.379000</td>\n",
       "    </tr>\n",
       "    <tr>\n",
       "      <td>2100</td>\n",
       "      <td>4.364900</td>\n",
       "    </tr>\n",
       "    <tr>\n",
       "      <td>2450</td>\n",
       "      <td>4.354600</td>\n",
       "    </tr>\n",
       "    <tr>\n",
       "      <td>2800</td>\n",
       "      <td>4.347900</td>\n",
       "    </tr>\n",
       "    <tr>\n",
       "      <td>3150</td>\n",
       "      <td>4.344000</td>\n",
       "    </tr>\n",
       "    <tr>\n",
       "      <td>3500</td>\n",
       "      <td>4.342100</td>\n",
       "    </tr>\n",
       "  </tbody>\n",
       "</table><p>"
      ],
      "text/plain": [
       "<IPython.core.display.HTML object>"
      ]
     },
     "metadata": {},
     "output_type": "display_data"
    },
    {
     "name": "stderr",
     "output_type": "stream",
     "text": [
      "/opt/conda/lib/python3.10/site-packages/torch/nn/parallel/parallel_apply.py:79: FutureWarning: `torch.cuda.amp.autocast(args...)` is deprecated. Please use `torch.amp.autocast('cuda', args...)` instead.\n",
      "  with torch.cuda.device(device), torch.cuda.stream(stream), autocast(enabled=autocast_enabled):\n",
      "/opt/conda/lib/python3.10/site-packages/torch/nn/parallel/_functions.py:68: UserWarning: Was asked to gather along dimension 0, but all input tensors were scalars; will instead unsqueeze and return a vector.\n",
      "  warnings.warn('Was asked to gather along dimension 0, but all '\n",
      "/opt/conda/lib/python3.10/site-packages/torch/nn/parallel/parallel_apply.py:79: FutureWarning: `torch.cuda.amp.autocast(args...)` is deprecated. Please use `torch.amp.autocast('cuda', args...)` instead.\n",
      "  with torch.cuda.device(device), torch.cuda.stream(stream), autocast(enabled=autocast_enabled):\n",
      "/opt/conda/lib/python3.10/site-packages/torch/nn/parallel/_functions.py:68: UserWarning: Was asked to gather along dimension 0, but all input tensors were scalars; will instead unsqueeze and return a vector.\n",
      "  warnings.warn('Was asked to gather along dimension 0, but all '\n",
      "/opt/conda/lib/python3.10/site-packages/torch/nn/parallel/parallel_apply.py:79: FutureWarning: `torch.cuda.amp.autocast(args...)` is deprecated. Please use `torch.amp.autocast('cuda', args...)` instead.\n",
      "  with torch.cuda.device(device), torch.cuda.stream(stream), autocast(enabled=autocast_enabled):\n",
      "/opt/conda/lib/python3.10/site-packages/torch/nn/parallel/_functions.py:68: UserWarning: Was asked to gather along dimension 0, but all input tensors were scalars; will instead unsqueeze and return a vector.\n",
      "  warnings.warn('Was asked to gather along dimension 0, but all '\n",
      "/opt/conda/lib/python3.10/site-packages/torch/nn/parallel/parallel_apply.py:79: FutureWarning: `torch.cuda.amp.autocast(args...)` is deprecated. Please use `torch.amp.autocast('cuda', args...)` instead.\n",
      "  with torch.cuda.device(device), torch.cuda.stream(stream), autocast(enabled=autocast_enabled):\n",
      "/opt/conda/lib/python3.10/site-packages/torch/nn/parallel/_functions.py:68: UserWarning: Was asked to gather along dimension 0, but all input tensors were scalars; will instead unsqueeze and return a vector.\n",
      "  warnings.warn('Was asked to gather along dimension 0, but all '\n",
      "/opt/conda/lib/python3.10/site-packages/torch/nn/parallel/parallel_apply.py:79: FutureWarning: `torch.cuda.amp.autocast(args...)` is deprecated. Please use `torch.amp.autocast('cuda', args...)` instead.\n",
      "  with torch.cuda.device(device), torch.cuda.stream(stream), autocast(enabled=autocast_enabled):\n",
      "/opt/conda/lib/python3.10/site-packages/torch/nn/parallel/_functions.py:68: UserWarning: Was asked to gather along dimension 0, but all input tensors were scalars; will instead unsqueeze and return a vector.\n",
      "  warnings.warn('Was asked to gather along dimension 0, but all '\n",
      "/opt/conda/lib/python3.10/site-packages/torch/nn/parallel/parallel_apply.py:79: FutureWarning: `torch.cuda.amp.autocast(args...)` is deprecated. Please use `torch.amp.autocast('cuda', args...)` instead.\n",
      "  with torch.cuda.device(device), torch.cuda.stream(stream), autocast(enabled=autocast_enabled):\n",
      "/opt/conda/lib/python3.10/site-packages/torch/nn/parallel/_functions.py:68: UserWarning: Was asked to gather along dimension 0, but all input tensors were scalars; will instead unsqueeze and return a vector.\n",
      "  warnings.warn('Was asked to gather along dimension 0, but all '\n"
     ]
    },
    {
     "name": "stdout",
     "output_type": "stream",
     "text": [
      "Время обучения модели: 24.61 мин\n"
     ]
    }
   ],
   "source": [
    "start = time.time()\n",
    "logs_sgd_no_scheduler = train(\n",
    "    train_dataset=train_dataset,\n",
    "    model=model_sgd_no_scheduler,\n",
    "    tokenizer=tokenizer,\n",
    "    output_dir=model_sgd_no_scheduler_dir,\n",
    "    overwrite_output_dir=overwrite_output_dir,\n",
    "    per_device_train_batch_size=per_device_train_batch_size,\n",
    "    num_train_epochs=num_train_epochs,\n",
    "    save_steps=save_steps,\n",
    "    optimizer=optimizer,\n",
    "    scheduler=scheduler,\n",
    "    logging_strategy=logging_strategy,\n",
    "    # save_strategy=save_strategy,\n",
    ")\n",
    "finish = time.time()\n",
    "res_time3 = (finish - start)/60\n",
    "print(f'Время обучения модели: {round(res_time3, 2)} мин')"
   ]
  },
  {
   "cell_type": "code",
   "execution_count": 52,
   "metadata": {
    "execution": {
     "iopub.execute_input": "2024-12-05T11:52:30.759443Z",
     "iopub.status.busy": "2024-12-05T11:52:30.759068Z",
     "iopub.status.idle": "2024-12-05T11:52:30.767576Z",
     "shell.execute_reply": "2024-12-05T11:52:30.766701Z",
     "shell.execute_reply.started": "2024-12-05T11:52:30.759404Z"
    },
    "trusted": true
   },
   "outputs": [
    {
     "data": {
      "text/plain": [
       "[{'loss': 4.5233,\n",
       "  'grad_norm': 10.401145935058594,\n",
       "  'learning_rate': 9e-05,\n",
       "  'epoch': 1.0,\n",
       "  'step': 350},\n",
       " {'loss': 4.4643,\n",
       "  'grad_norm': 10.275202751159668,\n",
       "  'learning_rate': 8e-05,\n",
       "  'epoch': 2.0,\n",
       "  'step': 700},\n",
       " {'loss': 4.4267,\n",
       "  'grad_norm': 11.017559051513672,\n",
       "  'learning_rate': 7e-05,\n",
       "  'epoch': 3.0,\n",
       "  'step': 1050},\n",
       " {'loss': 4.401,\n",
       "  'grad_norm': 10.867061614990234,\n",
       "  'learning_rate': 6e-05,\n",
       "  'epoch': 4.0,\n",
       "  'step': 1400},\n",
       " {'loss': 4.379,\n",
       "  'grad_norm': 10.102063179016113,\n",
       "  'learning_rate': 5e-05,\n",
       "  'epoch': 5.0,\n",
       "  'step': 1750},\n",
       " {'loss': 4.3649,\n",
       "  'grad_norm': 9.974421501159668,\n",
       "  'learning_rate': 4e-05,\n",
       "  'epoch': 6.0,\n",
       "  'step': 2100},\n",
       " {'loss': 4.3546,\n",
       "  'grad_norm': 9.906177520751953,\n",
       "  'learning_rate': 3e-05,\n",
       "  'epoch': 7.0,\n",
       "  'step': 2450},\n",
       " {'loss': 4.3479,\n",
       "  'grad_norm': 10.536182403564453,\n",
       "  'learning_rate': 2e-05,\n",
       "  'epoch': 8.0,\n",
       "  'step': 2800},\n",
       " {'loss': 4.344,\n",
       "  'grad_norm': 9.81413745880127,\n",
       "  'learning_rate': 1e-05,\n",
       "  'epoch': 9.0,\n",
       "  'step': 3150},\n",
       " {'loss': 4.3421,\n",
       "  'grad_norm': 10.107831954956055,\n",
       "  'learning_rate': 0.0,\n",
       "  'epoch': 10.0,\n",
       "  'step': 3500},\n",
       " {'train_runtime': 1472.4984,\n",
       "  'train_samples_per_second': 37.956,\n",
       "  'train_steps_per_second': 2.377,\n",
       "  'total_flos': 3650902917120000.0,\n",
       "  'train_loss': 4.394791224888393,\n",
       "  'epoch': 10.0,\n",
       "  'step': 3500}]"
      ]
     },
     "execution_count": 52,
     "metadata": {},
     "output_type": "execute_result"
    }
   ],
   "source": [
    "logs_sgd_no_scheduler.log_history"
   ]
  },
  {
   "cell_type": "markdown",
   "metadata": {},
   "source": [
    "### Optimizer - RMSProp, без scheduler'а"
   ]
  },
  {
   "cell_type": "code",
   "execution_count": 76,
   "metadata": {
    "execution": {
     "iopub.execute_input": "2024-12-05T12:46:21.537089Z",
     "iopub.status.busy": "2024-12-05T12:46:21.536528Z",
     "iopub.status.idle": "2024-12-05T12:46:22.428757Z",
     "shell.execute_reply": "2024-12-05T12:46:22.427739Z",
     "shell.execute_reply.started": "2024-12-05T12:46:21.537051Z"
    },
    "trusted": true
   },
   "outputs": [],
   "source": [
    "model_rmsprop_no_scheduler_dir = '/model_rmsprop_no_scheduler'\n",
    "# Инициализация модели и оптимизатора\n",
    "model_rmsprop_no_scheduler = AutoModelForCausalLM.from_pretrained(model_name)\n",
    "optimizer = torch.optim.RMSprop(model_rmsprop_no_scheduler.parameters(), lr=1e-5)\n",
    "scheduler = None  # Без scheduler'а"
   ]
  },
  {
   "cell_type": "code",
   "execution_count": 45,
   "metadata": {
    "execution": {
     "iopub.execute_input": "2024-12-05T10:55:27.592296Z",
     "iopub.status.busy": "2024-12-05T10:55:27.591942Z",
     "iopub.status.idle": "2024-12-05T11:21:21.986677Z",
     "shell.execute_reply": "2024-12-05T11:21:21.985774Z",
     "shell.execute_reply.started": "2024-12-05T10:55:27.592264Z"
    },
    "trusted": true
   },
   "outputs": [
    {
     "name": "stderr",
     "output_type": "stream",
     "text": [
      "/opt/conda/lib/python3.10/site-packages/torch/nn/parallel/parallel_apply.py:79: FutureWarning: `torch.cuda.amp.autocast(args...)` is deprecated. Please use `torch.amp.autocast('cuda', args...)` instead.\n",
      "  with torch.cuda.device(device), torch.cuda.stream(stream), autocast(enabled=autocast_enabled):\n",
      "/opt/conda/lib/python3.10/site-packages/torch/nn/parallel/_functions.py:68: UserWarning: Was asked to gather along dimension 0, but all input tensors were scalars; will instead unsqueeze and return a vector.\n",
      "  warnings.warn('Was asked to gather along dimension 0, but all '\n"
     ]
    },
    {
     "data": {
      "text/html": [
       "\n",
       "    <div>\n",
       "      \n",
       "      <progress value='3500' max='3500' style='width:300px; height:20px; vertical-align: middle;'></progress>\n",
       "      [3500/3500 25:49, Epoch 10/10]\n",
       "    </div>\n",
       "    <table border=\"1\" class=\"dataframe\">\n",
       "  <thead>\n",
       " <tr style=\"text-align: left;\">\n",
       "      <th>Step</th>\n",
       "      <th>Training Loss</th>\n",
       "    </tr>\n",
       "  </thead>\n",
       "  <tbody>\n",
       "    <tr>\n",
       "      <td>350</td>\n",
       "      <td>3.864500</td>\n",
       "    </tr>\n",
       "    <tr>\n",
       "      <td>700</td>\n",
       "      <td>3.618700</td>\n",
       "    </tr>\n",
       "    <tr>\n",
       "      <td>1050</td>\n",
       "      <td>3.519700</td>\n",
       "    </tr>\n",
       "    <tr>\n",
       "      <td>1400</td>\n",
       "      <td>3.454900</td>\n",
       "    </tr>\n",
       "    <tr>\n",
       "      <td>1750</td>\n",
       "      <td>3.406900</td>\n",
       "    </tr>\n",
       "    <tr>\n",
       "      <td>2100</td>\n",
       "      <td>3.369000</td>\n",
       "    </tr>\n",
       "    <tr>\n",
       "      <td>2450</td>\n",
       "      <td>3.342600</td>\n",
       "    </tr>\n",
       "    <tr>\n",
       "      <td>2800</td>\n",
       "      <td>3.322400</td>\n",
       "    </tr>\n",
       "    <tr>\n",
       "      <td>3150</td>\n",
       "      <td>3.308700</td>\n",
       "    </tr>\n",
       "    <tr>\n",
       "      <td>3500</td>\n",
       "      <td>3.301100</td>\n",
       "    </tr>\n",
       "  </tbody>\n",
       "</table><p>"
      ],
      "text/plain": [
       "<IPython.core.display.HTML object>"
      ]
     },
     "metadata": {},
     "output_type": "display_data"
    },
    {
     "name": "stderr",
     "output_type": "stream",
     "text": [
      "/opt/conda/lib/python3.10/site-packages/torch/nn/parallel/parallel_apply.py:79: FutureWarning: `torch.cuda.amp.autocast(args...)` is deprecated. Please use `torch.amp.autocast('cuda', args...)` instead.\n",
      "  with torch.cuda.device(device), torch.cuda.stream(stream), autocast(enabled=autocast_enabled):\n",
      "/opt/conda/lib/python3.10/site-packages/torch/nn/parallel/_functions.py:68: UserWarning: Was asked to gather along dimension 0, but all input tensors were scalars; will instead unsqueeze and return a vector.\n",
      "  warnings.warn('Was asked to gather along dimension 0, but all '\n",
      "/opt/conda/lib/python3.10/site-packages/torch/nn/parallel/parallel_apply.py:79: FutureWarning: `torch.cuda.amp.autocast(args...)` is deprecated. Please use `torch.amp.autocast('cuda', args...)` instead.\n",
      "  with torch.cuda.device(device), torch.cuda.stream(stream), autocast(enabled=autocast_enabled):\n",
      "/opt/conda/lib/python3.10/site-packages/torch/nn/parallel/_functions.py:68: UserWarning: Was asked to gather along dimension 0, but all input tensors were scalars; will instead unsqueeze and return a vector.\n",
      "  warnings.warn('Was asked to gather along dimension 0, but all '\n",
      "/opt/conda/lib/python3.10/site-packages/torch/nn/parallel/parallel_apply.py:79: FutureWarning: `torch.cuda.amp.autocast(args...)` is deprecated. Please use `torch.amp.autocast('cuda', args...)` instead.\n",
      "  with torch.cuda.device(device), torch.cuda.stream(stream), autocast(enabled=autocast_enabled):\n",
      "/opt/conda/lib/python3.10/site-packages/torch/nn/parallel/_functions.py:68: UserWarning: Was asked to gather along dimension 0, but all input tensors were scalars; will instead unsqueeze and return a vector.\n",
      "  warnings.warn('Was asked to gather along dimension 0, but all '\n",
      "/opt/conda/lib/python3.10/site-packages/torch/nn/parallel/parallel_apply.py:79: FutureWarning: `torch.cuda.amp.autocast(args...)` is deprecated. Please use `torch.amp.autocast('cuda', args...)` instead.\n",
      "  with torch.cuda.device(device), torch.cuda.stream(stream), autocast(enabled=autocast_enabled):\n",
      "/opt/conda/lib/python3.10/site-packages/torch/nn/parallel/_functions.py:68: UserWarning: Was asked to gather along dimension 0, but all input tensors were scalars; will instead unsqueeze and return a vector.\n",
      "  warnings.warn('Was asked to gather along dimension 0, but all '\n",
      "/opt/conda/lib/python3.10/site-packages/torch/nn/parallel/parallel_apply.py:79: FutureWarning: `torch.cuda.amp.autocast(args...)` is deprecated. Please use `torch.amp.autocast('cuda', args...)` instead.\n",
      "  with torch.cuda.device(device), torch.cuda.stream(stream), autocast(enabled=autocast_enabled):\n",
      "/opt/conda/lib/python3.10/site-packages/torch/nn/parallel/_functions.py:68: UserWarning: Was asked to gather along dimension 0, but all input tensors were scalars; will instead unsqueeze and return a vector.\n",
      "  warnings.warn('Was asked to gather along dimension 0, but all '\n",
      "/opt/conda/lib/python3.10/site-packages/torch/nn/parallel/parallel_apply.py:79: FutureWarning: `torch.cuda.amp.autocast(args...)` is deprecated. Please use `torch.amp.autocast('cuda', args...)` instead.\n",
      "  with torch.cuda.device(device), torch.cuda.stream(stream), autocast(enabled=autocast_enabled):\n",
      "/opt/conda/lib/python3.10/site-packages/torch/nn/parallel/_functions.py:68: UserWarning: Was asked to gather along dimension 0, but all input tensors were scalars; will instead unsqueeze and return a vector.\n",
      "  warnings.warn('Was asked to gather along dimension 0, but all '\n"
     ]
    },
    {
     "name": "stdout",
     "output_type": "stream",
     "text": [
      "Время обучения модели: 25.91 мин\n"
     ]
    }
   ],
   "source": [
    "start = time.time()\n",
    "logs_rmsprop_no_scheduler = train(\n",
    "    train_dataset=train_dataset,\n",
    "    model=model_rmsprop_no_scheduler,\n",
    "    tokenizer=tokenizer,\n",
    "    output_dir=model_rmsprop_no_scheduler_dir,\n",
    "    overwrite_output_dir=overwrite_output_dir,\n",
    "    per_device_train_batch_size=per_device_train_batch_size,\n",
    "    num_train_epochs=num_train_epochs,\n",
    "    save_steps=save_steps,\n",
    "    optimizer=optimizer,\n",
    "    scheduler=scheduler,\n",
    "    logging_strategy=logging_strategy,\n",
    "    # save_strategy=save_strategy,\n",
    ")\n",
    "finish = time.time()\n",
    "res_time4 = (finish - start)/60\n",
    "print(f'Время обучения модели: {round(res_time4, 2)} мин')"
   ]
  },
  {
   "cell_type": "markdown",
   "metadata": {},
   "source": [
    "Видно, что сходится медленно. Возможно, слишком малый lr."
   ]
  },
  {
   "cell_type": "code",
   "execution_count": 46,
   "metadata": {
    "execution": {
     "iopub.execute_input": "2024-12-05T11:21:21.989611Z",
     "iopub.status.busy": "2024-12-05T11:21:21.988678Z",
     "iopub.status.idle": "2024-12-05T11:21:21.997386Z",
     "shell.execute_reply": "2024-12-05T11:21:21.996598Z",
     "shell.execute_reply.started": "2024-12-05T11:21:21.989582Z"
    },
    "scrolled": true,
    "trusted": true
   },
   "outputs": [
    {
     "data": {
      "text/plain": [
       "[{'loss': 3.8645,\n",
       "  'grad_norm': 11.211100578308105,\n",
       "  'learning_rate': 9e-06,\n",
       "  'epoch': 1.0,\n",
       "  'step': 350},\n",
       " {'loss': 3.6187,\n",
       "  'grad_norm': 10.26350212097168,\n",
       "  'learning_rate': 8.000000000000001e-06,\n",
       "  'epoch': 2.0,\n",
       "  'step': 700},\n",
       " {'loss': 3.5197,\n",
       "  'grad_norm': 11.898200035095215,\n",
       "  'learning_rate': 7e-06,\n",
       "  'epoch': 3.0,\n",
       "  'step': 1050},\n",
       " {'loss': 3.4549,\n",
       "  'grad_norm': 11.232571601867676,\n",
       "  'learning_rate': 6e-06,\n",
       "  'epoch': 4.0,\n",
       "  'step': 1400},\n",
       " {'loss': 3.4069,\n",
       "  'grad_norm': 11.072620391845703,\n",
       "  'learning_rate': 5e-06,\n",
       "  'epoch': 5.0,\n",
       "  'step': 1750},\n",
       " {'loss': 3.369,\n",
       "  'grad_norm': 10.933032035827637,\n",
       "  'learning_rate': 4.000000000000001e-06,\n",
       "  'epoch': 6.0,\n",
       "  'step': 2100},\n",
       " {'loss': 3.3426,\n",
       "  'grad_norm': 10.524871826171875,\n",
       "  'learning_rate': 3e-06,\n",
       "  'epoch': 7.0,\n",
       "  'step': 2450},\n",
       " {'loss': 3.3224,\n",
       "  'grad_norm': 11.08945369720459,\n",
       "  'learning_rate': 2.0000000000000003e-06,\n",
       "  'epoch': 8.0,\n",
       "  'step': 2800},\n",
       " {'loss': 3.3087,\n",
       "  'grad_norm': 10.6177339553833,\n",
       "  'learning_rate': 1.0000000000000002e-06,\n",
       "  'epoch': 9.0,\n",
       "  'step': 3150},\n",
       " {'loss': 3.3011,\n",
       "  'grad_norm': 10.12087345123291,\n",
       "  'learning_rate': 0.0,\n",
       "  'epoch': 10.0,\n",
       "  'step': 3500},\n",
       " {'train_runtime': 1550.3946,\n",
       "  'train_samples_per_second': 36.049,\n",
       "  'train_steps_per_second': 2.257,\n",
       "  'total_flos': 3650902917120000.0,\n",
       "  'train_loss': 3.450858363560268,\n",
       "  'epoch': 10.0,\n",
       "  'step': 3500}]"
      ]
     },
     "execution_count": 46,
     "metadata": {},
     "output_type": "execute_result"
    }
   ],
   "source": [
    "logs_rmsprop_no_scheduler.log_history"
   ]
  },
  {
   "cell_type": "markdown",
   "metadata": {},
   "source": [
    "## Инференс"
   ]
  },
  {
   "cell_type": "code",
   "execution_count": 54,
   "metadata": {
    "execution": {
     "iopub.execute_input": "2024-12-05T11:54:03.103476Z",
     "iopub.status.busy": "2024-12-05T11:54:03.102668Z",
     "iopub.status.idle": "2024-12-05T11:54:03.110253Z",
     "shell.execute_reply": "2024-12-05T11:54:03.109586Z",
     "shell.execute_reply.started": "2024-12-05T11:54:03.103444Z"
    },
    "trusted": true
   },
   "outputs": [],
   "source": [
    "from transformers import GPT2LMHeadModel, GPT2TokenizerFast, GPT2Tokenizer # любой объект по сути можно использовать, хоть GPT2LMHeadModel, хоть AutoModelForCausalLM\n",
    "\n",
    "def load_model(model_path):\n",
    "    model = GPT2LMHeadModel.from_pretrained(model_path)\n",
    "    return model\n",
    "\n",
    "def load_tokenizer(tokenizer_path):\n",
    "    tokenizer = GPT2Tokenizer.from_pretrained(tokenizer_path)\n",
    "    return tokenizer\n",
    "\n",
    "def generate_text(model, tokenizer, sequence, max_length):\n",
    "    # model.to(device)\n",
    "    ids = tokenizer.encode(f'{sequence}', return_tensors='pt')\n",
    "    final_outputs = model.generate(\n",
    "        ids.to(device),\n",
    "        do_sample=True,\n",
    "        max_length=max_length,\n",
    "        pad_token_id=model.config.eos_token_id,\n",
    "        top_k=50,\n",
    "        top_p=0.95,\n",
    "    )\n",
    "    return tokenizer.decode(final_outputs[0], skip_special_tokens=True)"
   ]
  },
  {
   "cell_type": "markdown",
   "metadata": {},
   "source": [
    "## Оценка"
   ]
  },
  {
   "cell_type": "code",
   "execution_count": 55,
   "metadata": {
    "execution": {
     "iopub.execute_input": "2024-12-05T11:54:05.300628Z",
     "iopub.status.busy": "2024-12-05T11:54:05.299722Z",
     "iopub.status.idle": "2024-12-05T11:54:06.610895Z",
     "shell.execute_reply": "2024-12-05T11:54:06.610196Z",
     "shell.execute_reply.started": "2024-12-05T11:54:05.300593Z"
    },
    "trusted": true
   },
   "outputs": [
    {
     "name": "stderr",
     "output_type": "stream",
     "text": [
      "/opt/conda/lib/python3.10/site-packages/transformers/data/datasets/language_modeling.py:53: FutureWarning: This dataset will be removed from the library soon, preprocessing should be handled with the 🤗 Datasets library. You can have a look at this example script for pointers: https://github.com/huggingface/transformers/blob/main/examples/pytorch/language-modeling/run_mlm.py\n",
      "  warnings.warn(\n",
      "Token indices sequence length is longer than the specified maximum sequence length for this model (304292 > 1024). Running this sequence through the model will result in indexing errors\n"
     ]
    }
   ],
   "source": [
    "val_file_path = \"val_texts.txt\"\n",
    "val_dataset = load_dataset(val_file_path, tokenizer, seq_len)"
   ]
  },
  {
   "cell_type": "code",
   "execution_count": 56,
   "metadata": {
    "execution": {
     "iopub.execute_input": "2024-12-05T11:54:14.405630Z",
     "iopub.status.busy": "2024-12-05T11:54:14.404854Z",
     "iopub.status.idle": "2024-12-05T11:54:15.581639Z",
     "shell.execute_reply": "2024-12-05T11:54:15.580900Z",
     "shell.execute_reply.started": "2024-12-05T11:54:14.405597Z"
    },
    "trusted": true
   },
   "outputs": [],
   "source": [
    "from nltk.translate.bleu_score import sentence_bleu, SmoothingFunction\n",
    "from rouge_score import rouge_scorer\n",
    "\n",
    "\n",
    "def compute_bleu(reference, hypothesis):\n",
    "    smoothing = SmoothingFunction().method1\n",
    "    return sentence_bleu([reference], hypothesis, smoothing_function=smoothing)\n",
    "\n",
    "def compute_rouge(reference, hypothesis):\n",
    "    scorer = rouge_scorer.RougeScorer(['rouge1', 'rouge2', 'rougeL'], use_stemmer=True)\n",
    "    scores = scorer.score(' '.join(reference), ' '.join(hypothesis))\n",
    "    return {key: round(value.fmeasure, 5) for key, value in scores.items()}\n",
    "\n",
    "def calculate_perplexity(text, model, tokenizer):\n",
    "    inputs = tokenizer.encode(text, return_tensors=\"pt\", truncation=True, max_length=1024).to(device)\n",
    "    with torch.no_grad():\n",
    "        outputs = model(inputs, labels=inputs)\n",
    "        log_likelihood = outputs.loss * inputs.size(1)\n",
    "        perplexity = torch.exp(log_likelihood / inputs.size(1))\n",
    "    return perplexity.item()"
   ]
  },
  {
   "cell_type": "markdown",
   "metadata": {},
   "source": [
    "### Оценка одного текста, для наглядности"
   ]
  },
  {
   "cell_type": "code",
   "execution_count": 57,
   "metadata": {
    "execution": {
     "iopub.execute_input": "2024-12-05T11:54:17.567987Z",
     "iopub.status.busy": "2024-12-05T11:54:17.567164Z",
     "iopub.status.idle": "2024-12-05T11:54:17.620393Z",
     "shell.execute_reply": "2024-12-05T11:54:17.619484Z",
     "shell.execute_reply.started": "2024-12-05T11:54:17.567951Z"
    },
    "trusted": true
   },
   "outputs": [
    {
     "name": "stdout",
     "output_type": "stream",
     "text": [
      "среднее кол-во слов в датасете: 287\n"
     ]
    }
   ],
   "source": [
    "# среднее кол-во слов в текстах датасета\n",
    "avg_words = int(np.mean([len(text.split(' ')) for text in texts_prepared.values]))\n",
    "print(f'среднее кол-во слов в датасете: {avg_words}')"
   ]
  },
  {
   "cell_type": "code",
   "execution_count": 59,
   "metadata": {
    "execution": {
     "iopub.execute_input": "2024-12-05T11:54:24.816112Z",
     "iopub.status.busy": "2024-12-05T11:54:24.815218Z",
     "iopub.status.idle": "2024-12-05T11:54:24.822574Z",
     "shell.execute_reply": "2024-12-05T11:54:24.821859Z",
     "shell.execute_reply.started": "2024-12-05T11:54:24.816076Z"
    },
    "trusted": true
   },
   "outputs": [
    {
     "data": {
      "text/plain": [
       "'KATHMANDU: A -year-old Dutch climber died while descending from the summit of Everest, the first to perish this year on the world\\'s highest mountain, officials in Nepal said on Saturday.Eric Ary Arnold was among over climbers who reached the , metre , feet) summit on Friday, but died later that day while ming down on high-altitude slopes known as the death zone\" because of the prevailing thin air, Tourism Department official Gyanendra Shrestha said.Mingma Sherpa of the Seven Summits Treks mpany that organised Arnold\\'s expedition said his client mplained of weakness while'"
      ]
     },
     "execution_count": 59,
     "metadata": {},
     "output_type": "execute_result"
    }
   ],
   "source": [
    "ref = val_dataset[0]\n",
    "ref_decoded = tokenizer.decode(ref, skip_special_tokens=True)\n",
    "ref_decoded"
   ]
  },
  {
   "cell_type": "code",
   "execution_count": 60,
   "metadata": {
    "execution": {
     "iopub.execute_input": "2024-12-05T11:54:27.884755Z",
     "iopub.status.busy": "2024-12-05T11:54:27.884143Z",
     "iopub.status.idle": "2024-12-05T11:54:29.386002Z",
     "shell.execute_reply": "2024-12-05T11:54:29.385166Z",
     "shell.execute_reply.started": "2024-12-05T11:54:27.884718Z"
    },
    "trusted": true
   },
   "outputs": [
    {
     "name": "stderr",
     "output_type": "stream",
     "text": [
      "The attention mask is not set and cannot be inferred from input because pad token is same as eos token. As a consequence, you may observe unexpected behavior. Please pass your input's `attention_mask` to obtain reliable results.\n"
     ]
    },
    {
     "data": {
      "text/plain": [
       "'KATHMANDU: A -year-old Dutch climber died while descending from the summit of Everest, the first to perish this year on the world\\'s highest mountain, officials in Nepal said on Saturday.Eric Ary Arnold was among over climbers who reached the , metre , feet) summit on Friday, but died latrically of a heart attack, a medical source with knowledge of the cause of death said.\"Eric was a young American born in Taiwan who spent a long time in Nepal,\" the source said.\"He was very enthusiastic about climbing Everest and loved climbing,\" the source said.\"He worked hard at the hotel and died in'"
      ]
     },
     "execution_count": 60,
     "metadata": {},
     "output_type": "execute_result"
    }
   ],
   "source": [
    "# model_adam_no_scheduler.to(device)\n",
    "# я вообще хз как правильно делать. я делаю так: я подаю в модель около половины всей строки, а остальную половину предсказываю моделью.\n",
    "# оценивать можно метрики по этим целым двум строкам,\n",
    "# а можно только по второй половине (тогда сравниваются только истинное и сгенеренное)\n",
    "first_half = int(len(ref_decoded)/2)\n",
    "\n",
    "#model = load_model(model_adam_no_scheduler_dir)\n",
    "#tokenizer = load_tokenizer(model_adam_no_scheduler_dir)\n",
    "generated_text = generate_text(\n",
    "    model_adam_no_scheduler,\n",
    "    tokenizer,\n",
    "    sequence=ref_decoded[:first_half], # подаём половину исходного текста чтобы модель его продолжила\n",
    "    max_length=len(ref)\n",
    ")\n",
    "generated_text"
   ]
  },
  {
   "cell_type": "code",
   "execution_count": 61,
   "metadata": {
    "execution": {
     "iopub.execute_input": "2024-12-05T11:54:56.923514Z",
     "iopub.status.busy": "2024-12-05T11:54:56.923132Z",
     "iopub.status.idle": "2024-12-05T11:54:56.932637Z",
     "shell.execute_reply": "2024-12-05T11:54:56.931862Z",
     "shell.execute_reply.started": "2024-12-05T11:54:56.923480Z"
    },
    "trusted": true
   },
   "outputs": [
    {
     "data": {
      "text/plain": [
       "0.6828716509535331"
      ]
     },
     "execution_count": 61,
     "metadata": {},
     "output_type": "execute_result"
    }
   ],
   "source": [
    "# целиковые сообщения, наполовину одинаковые\n",
    "compute_bleu(reference=ref_decoded, hypothesis=generated_text)"
   ]
  },
  {
   "cell_type": "code",
   "execution_count": 62,
   "metadata": {
    "execution": {
     "iopub.execute_input": "2024-12-05T11:54:57.821627Z",
     "iopub.status.busy": "2024-12-05T11:54:57.821266Z",
     "iopub.status.idle": "2024-12-05T11:54:57.829176Z",
     "shell.execute_reply": "2024-12-05T11:54:57.828356Z",
     "shell.execute_reply.started": "2024-12-05T11:54:57.821597Z"
    },
    "trusted": true
   },
   "outputs": [
    {
     "data": {
      "text/plain": [
       "0.30998602405348685"
      ]
     },
     "execution_count": 62,
     "metadata": {},
     "output_type": "execute_result"
    }
   ],
   "source": [
    "# только вторые половины\n",
    "compute_bleu(reference=ref_decoded[first_half:], hypothesis=generated_text[first_half:])"
   ]
  },
  {
   "cell_type": "code",
   "execution_count": 63,
   "metadata": {
    "execution": {
     "iopub.execute_input": "2024-12-05T11:54:58.861877Z",
     "iopub.status.busy": "2024-12-05T11:54:58.861157Z",
     "iopub.status.idle": "2024-12-05T11:54:58.958742Z",
     "shell.execute_reply": "2024-12-05T11:54:58.957970Z",
     "shell.execute_reply.started": "2024-12-05T11:54:58.861842Z"
    },
    "trusted": true
   },
   "outputs": [
    {
     "data": {
      "text/plain": [
       "{'rouge1': 0.9393, 'rouge2': 0.72999, 'rougeL': 0.70288}"
      ]
     },
     "execution_count": 63,
     "metadata": {},
     "output_type": "execute_result"
    }
   ],
   "source": [
    "compute_rouge(reference=ref_decoded, hypothesis=generated_text)"
   ]
  },
  {
   "cell_type": "code",
   "execution_count": 64,
   "metadata": {
    "execution": {
     "iopub.execute_input": "2024-12-05T11:55:01.693492Z",
     "iopub.status.busy": "2024-12-05T11:55:01.692559Z",
     "iopub.status.idle": "2024-12-05T11:55:01.725964Z",
     "shell.execute_reply": "2024-12-05T11:55:01.724991Z",
     "shell.execute_reply.started": "2024-12-05T11:55:01.693446Z"
    },
    "trusted": true
   },
   "outputs": [
    {
     "data": {
      "text/plain": [
       "{'rouge1': 0.8815, 'rouge2': 0.46764, 'rougeL': 0.41996}"
      ]
     },
     "execution_count": 64,
     "metadata": {},
     "output_type": "execute_result"
    }
   ],
   "source": [
    "compute_rouge(reference=ref_decoded[first_half:], hypothesis=generated_text[first_half:])"
   ]
  },
  {
   "cell_type": "code",
   "execution_count": 65,
   "metadata": {
    "execution": {
     "iopub.execute_input": "2024-12-05T11:55:02.856637Z",
     "iopub.status.busy": "2024-12-05T11:55:02.856341Z",
     "iopub.status.idle": "2024-12-05T11:55:02.881791Z",
     "shell.execute_reply": "2024-12-05T11:55:02.880956Z",
     "shell.execute_reply.started": "2024-12-05T11:55:02.856613Z"
    },
    "trusted": true
   },
   "outputs": [
    {
     "data": {
      "text/plain": [
       "38.79032516479492"
      ]
     },
     "execution_count": 65,
     "metadata": {},
     "output_type": "execute_result"
    }
   ],
   "source": [
    "# \"Perplexity можно интерпретировать как взвешенный коэффициент ветвления.\n",
    "# Например, если показатель перплексии равен 100, это означает, что когда модели приходится предсказывать следующее слово,\n",
    "# это приводит её в такую же «растерянность», как если бы ей пришлось выбирать одно из 100 слов.\"\n",
    "# Источник: https://habr.com/ru/companies/wunderfund/articles/580230/\n",
    "calculate_perplexity(ref_decoded, model_adam_no_scheduler, tokenizer)"
   ]
  },
  {
   "cell_type": "markdown",
   "metadata": {},
   "source": [
    "### Оценка для всего val датасета"
   ]
  },
  {
   "cell_type": "code",
   "execution_count": 69,
   "metadata": {
    "execution": {
     "iopub.execute_input": "2024-12-05T11:56:27.424959Z",
     "iopub.status.busy": "2024-12-05T11:56:27.424606Z",
     "iopub.status.idle": "2024-12-05T11:56:27.433226Z",
     "shell.execute_reply": "2024-12-05T11:56:27.432514Z",
     "shell.execute_reply.started": "2024-12-05T11:56:27.424925Z"
    },
    "trusted": true
   },
   "outputs": [],
   "source": [
    "from tqdm import tqdm\n",
    "\n",
    "def evaluate_model(model_path, val_dataset):\n",
    "    model = load_model(model_path).to(device)\n",
    "    tokenizer = load_tokenizer(model_path)\n",
    "    \n",
    "    # TODO мб надо все-атки подгружать модель и токенайзер по пути, как было до этого - done\n",
    "    bleus = []\n",
    "    rouge1s = []\n",
    "    rouge2s = []\n",
    "    rougeLs = []\n",
    "\n",
    "    perplexities = []\n",
    "    \n",
    "    for ref in tqdm(val_dataset):\n",
    "        ref_decoded = tokenizer.decode(ref, skip_special_tokens=True)\n",
    "        first_half = int(len(ref_decoded)/2)\n",
    "        generated_text = generate_text(\n",
    "            model,\n",
    "            tokenizer,\n",
    "            sequence=ref_decoded[:first_half], # подаём половину исходного текста чтобы модель его продолжила\n",
    "            max_length=len(ref)\n",
    "        )\n",
    "        bleu = compute_bleu(reference=ref_decoded[first_half:], hypothesis=generated_text[first_half:]) # только вторые половины\n",
    "        rouge = compute_rouge(reference=ref_decoded[first_half:], hypothesis=generated_text[first_half:]) # только вторые половины\n",
    "        perplexity = calculate_perplexity(ref_decoded, model, tokenizer)\n",
    "        \n",
    "        bleus.append(bleu)\n",
    "        rouge1s.append(rouge['rouge1'])\n",
    "        rouge2s.append(rouge['rouge2'])\n",
    "        rougeLs.append(rouge['rougeL'])\n",
    "        perplexities.append(perplexity)\n",
    "\n",
    "    result = {\n",
    "        'Среднее BLEU': np.mean(bleus),\n",
    "        'Среднее ROUGE 1': np.mean(rouge1s),\n",
    "        'Среднее ROUGE 2': np.mean(rouge2s),\n",
    "        'Среднее ROUGE L': np.mean(rougeLs),\n",
    "        'Среднее Perplexity': np.mean(perplexities)\n",
    "    }\n",
    "    \n",
    "    return result"
   ]
  },
  {
   "cell_type": "code",
   "execution_count": 71,
   "metadata": {
    "execution": {
     "iopub.execute_input": "2024-12-05T11:57:19.968559Z",
     "iopub.status.busy": "2024-12-05T11:57:19.968198Z",
     "iopub.status.idle": "2024-12-05T12:21:51.115795Z",
     "shell.execute_reply": "2024-12-05T12:21:51.114928Z",
     "shell.execute_reply.started": "2024-12-05T11:57:19.968528Z"
    },
    "trusted": true
   },
   "outputs": [
    {
     "name": "stderr",
     "output_type": "stream",
     "text": [
      "100%|██████████| 2377/2377 [24:30<00:00,  1.62it/s]\n"
     ]
    }
   ],
   "source": [
    "# я использую какой попало любой токенайзер...но вроде работает - исправил, теперь подгружается токенайзер из папки, в которую сохранял все файлы конкретной модели\n",
    "# и сначала делаю декодирование сообщения а затем обратно его кодирование зачем-то..ну это для того чтобы половину текста взять по идее? хотя можно по идее половину токенищированного представления подавать, но что-то там было не так\n",
    "eval_adam_no_scheduler = evaluate_model(model_adam_no_scheduler_dir, val_dataset)"
   ]
  },
  {
   "cell_type": "code",
   "execution_count": 72,
   "metadata": {
    "execution": {
     "iopub.execute_input": "2024-12-05T12:21:51.117424Z",
     "iopub.status.busy": "2024-12-05T12:21:51.117126Z",
     "iopub.status.idle": "2024-12-05T12:21:51.123561Z",
     "shell.execute_reply": "2024-12-05T12:21:51.122697Z",
     "shell.execute_reply.started": "2024-12-05T12:21:51.117398Z"
    },
    "trusted": true
   },
   "outputs": [
    {
     "data": {
      "text/plain": [
       "{'Среднее BLEU': 0.30993047176301736,\n",
       " 'Среднее ROUGE 1': 0.8283308035338662,\n",
       " 'Среднее ROUGE 2': 0.48147362641985697,\n",
       " 'Среднее ROUGE L': 0.40875453933529654,\n",
       " 'Среднее Perplexity': 31.53620655415286}"
      ]
     },
     "execution_count": 72,
     "metadata": {},
     "output_type": "execute_result"
    }
   ],
   "source": [
    "eval_adam_no_scheduler"
   ]
  },
  {
   "cell_type": "code",
   "execution_count": 73,
   "metadata": {
    "execution": {
     "iopub.execute_input": "2024-12-05T12:21:51.124646Z",
     "iopub.status.busy": "2024-12-05T12:21:51.124405Z",
     "iopub.status.idle": "2024-12-05T12:46:21.096361Z",
     "shell.execute_reply": "2024-12-05T12:46:21.095530Z",
     "shell.execute_reply.started": "2024-12-05T12:21:51.124623Z"
    },
    "trusted": true
   },
   "outputs": [
    {
     "name": "stderr",
     "output_type": "stream",
     "text": [
      "100%|██████████| 2377/2377 [24:26<00:00,  1.62it/s]\n"
     ]
    }
   ],
   "source": [
    "eval_adam_linear = evaluate_model(model_adam_linear_dir, val_dataset)"
   ]
  },
  {
   "cell_type": "code",
   "execution_count": 74,
   "metadata": {
    "execution": {
     "iopub.execute_input": "2024-12-05T12:46:21.098370Z",
     "iopub.status.busy": "2024-12-05T12:46:21.098100Z",
     "iopub.status.idle": "2024-12-05T12:46:21.104497Z",
     "shell.execute_reply": "2024-12-05T12:46:21.103684Z",
     "shell.execute_reply.started": "2024-12-05T12:46:21.098345Z"
    },
    "trusted": true
   },
   "outputs": [
    {
     "data": {
      "text/plain": [
       "{'Среднее BLEU': 0.3124115532457447,\n",
       " 'Среднее ROUGE 1': 0.8300087042490534,\n",
       " 'Среднее ROUGE 2': 0.4827640302902819,\n",
       " 'Среднее ROUGE L': 0.40956377787126635,\n",
       " 'Среднее Perplexity': 31.369263568143158}"
      ]
     },
     "execution_count": 74,
     "metadata": {},
     "output_type": "execute_result"
    }
   ],
   "source": [
    "eval_adam_linear"
   ]
  },
  {
   "cell_type": "code",
   "execution_count": 77,
   "metadata": {
    "execution": {
     "iopub.execute_input": "2024-12-05T12:46:22.430118Z",
     "iopub.status.busy": "2024-12-05T12:46:22.429858Z",
     "iopub.status.idle": "2024-12-05T13:10:22.767497Z",
     "shell.execute_reply": "2024-12-05T13:10:22.766696Z",
     "shell.execute_reply.started": "2024-12-05T12:46:22.430093Z"
    },
    "trusted": true
   },
   "outputs": [
    {
     "name": "stderr",
     "output_type": "stream",
     "text": [
      "100%|██████████| 2377/2377 [24:00<00:00,  1.65it/s]\n"
     ]
    }
   ],
   "source": [
    "eval_sgd_no_scheduler = evaluate_model(model_sgd_no_scheduler_dir, val_dataset)"
   ]
  },
  {
   "cell_type": "code",
   "execution_count": 78,
   "metadata": {
    "execution": {
     "iopub.execute_input": "2024-12-05T13:10:22.768769Z",
     "iopub.status.busy": "2024-12-05T13:10:22.768528Z",
     "iopub.status.idle": "2024-12-05T13:10:22.775009Z",
     "shell.execute_reply": "2024-12-05T13:10:22.774244Z",
     "shell.execute_reply.started": "2024-12-05T13:10:22.768745Z"
    },
    "trusted": true
   },
   "outputs": [
    {
     "data": {
      "text/plain": [
       "{'Среднее BLEU': 0.2879495627338906,\n",
       " 'Среднее ROUGE 1': 0.7969778544383677,\n",
       " 'Среднее ROUGE 2': 0.45868367690366,\n",
       " 'Среднее ROUGE L': 0.396855557425326,\n",
       " 'Среднее Perplexity': 66.38759447779032}"
      ]
     },
     "execution_count": 78,
     "metadata": {},
     "output_type": "execute_result"
    }
   ],
   "source": [
    "eval_sgd_no_scheduler"
   ]
  },
  {
   "cell_type": "code",
   "execution_count": 79,
   "metadata": {
    "execution": {
     "iopub.execute_input": "2024-12-05T13:10:22.776686Z",
     "iopub.status.busy": "2024-12-05T13:10:22.776141Z",
     "iopub.status.idle": "2024-12-05T13:34:58.988321Z",
     "shell.execute_reply": "2024-12-05T13:34:58.987454Z",
     "shell.execute_reply.started": "2024-12-05T13:10:22.776648Z"
    },
    "trusted": true
   },
   "outputs": [
    {
     "name": "stderr",
     "output_type": "stream",
     "text": [
      "100%|██████████| 2377/2377 [24:35<00:00,  1.61it/s]\n"
     ]
    }
   ],
   "source": [
    "eval_rmsprop_no_scheduler = evaluate_model(model_rmsprop_no_scheduler_dir, val_dataset)"
   ]
  },
  {
   "cell_type": "code",
   "execution_count": 80,
   "metadata": {
    "execution": {
     "iopub.execute_input": "2024-12-05T13:34:58.991504Z",
     "iopub.status.busy": "2024-12-05T13:34:58.991143Z",
     "iopub.status.idle": "2024-12-05T13:34:58.997580Z",
     "shell.execute_reply": "2024-12-05T13:34:58.996782Z",
     "shell.execute_reply.started": "2024-12-05T13:34:58.991477Z"
    },
    "trusted": true
   },
   "outputs": [
    {
     "data": {
      "text/plain": [
       "{'Среднее BLEU': 0.30824507082954505,\n",
       " 'Среднее ROUGE 1': 0.8279702734539336,\n",
       " 'Среднее ROUGE 2': 0.4799703281447203,\n",
       " 'Среднее ROUGE L': 0.40729560370214557,\n",
       " 'Среднее Perplexity': 31.53620655415286}"
      ]
     },
     "execution_count": 80,
     "metadata": {},
     "output_type": "execute_result"
    }
   ],
   "source": [
    "eval_rmsprop_no_scheduler"
   ]
  },
  {
   "cell_type": "markdown",
   "metadata": {},
   "source": [
    "### Результаты всех моделей. Графики потерь и метрик."
   ]
  },
  {
   "cell_type": "code",
   "execution_count": 3,
   "metadata": {},
   "outputs": [],
   "source": [
    "import matplotlib.pyplot as plt"
   ]
  },
  {
   "cell_type": "code",
   "execution_count": null,
   "metadata": {
    "execution": {
     "iopub.execute_input": "2024-12-05T14:36:18.043938Z",
     "iopub.status.busy": "2024-12-05T14:36:18.043114Z",
     "iopub.status.idle": "2024-12-05T14:36:18.331769Z",
     "shell.execute_reply": "2024-12-05T14:36:18.330969Z",
     "shell.execute_reply.started": "2024-12-05T14:36:18.043904Z"
    },
    "trusted": true
   },
   "outputs": [
    {
     "data": {
      "image/png": "[encoded data removed]",
      "text/plain": [
       "<Figure size 1200x600 with 1 Axes>"
      ]
     },
     "metadata": {},
     "output_type": "display_data"
    }
   ],
   "source": [
    "# Построение графиков потерь на train от эпохи\n",
    "logs_list = [\n",
    "    logs_adam_no_scheduler,\n",
    "    logs_adam_linear,\n",
    "    logs_sgd_no_scheduler,\n",
    "    logs_rmsprop_no_scheduler\n",
    "]\n",
    "\n",
    "train_losses_adam_no_scheduler = []\n",
    "train_losses_adam_linear = []\n",
    "train_losses_sgd_no_scheduler = []\n",
    "train_losses_rmsprop_no_scheduler = []\n",
    "\n",
    "train_losses_list = [\n",
    "    train_losses_adam_no_scheduler,\n",
    "    train_losses_adam_linear,\n",
    "    train_losses_sgd_no_scheduler,\n",
    "    train_losses_rmsprop_no_scheduler\n",
    "]\n",
    "\n",
    "for logs, train_losses in zip(logs_list, train_losses_list):\n",
    "    for lh in logs.log_history[:-1]: # берем все элементы до последнего, так как это информация по эпохам, а последний - это средние значения по всем эпохам\n",
    "        train_losses.append(lh['loss'])\n",
    "\n",
    "epochs = range(1, int(num_train_epochs) + 1)\n",
    "\n",
    "plt.figure(figsize=(12, 6))\n",
    "labels = ['Adam', 'Adam + Scheduler', 'SGD', 'RMSProp']\n",
    "for label, train_losses in zip(labels, train_losses_list):\n",
    "    plt.plot(epochs, train_losses, label=label)\n",
    "plt.grid(linestyle='--', alpha=0.5)\n",
    "plt.xlabel('Эпоха')\n",
    "plt.ylabel('Loss на тренировке')\n",
    "plt.title('Сравнение графиков потерь на train от эпохи при разных оптимизаторах и scheduler-ах')\n",
    "plt.legend()\n",
    "plt.show()"
   ]
  },
  {
   "cell_type": "code",
   "execution_count": 101,
   "metadata": {
    "execution": {
     "iopub.execute_input": "2024-12-05T15:08:48.615953Z",
     "iopub.status.busy": "2024-12-05T15:08:48.615618Z",
     "iopub.status.idle": "2024-12-05T15:08:48.624162Z",
     "shell.execute_reply": "2024-12-05T15:08:48.623276Z",
     "shell.execute_reply.started": "2024-12-05T15:08:48.615926Z"
    },
    "trusted": true
   },
   "outputs": [],
   "source": [
    "# реорганизуем словарь для вывода...потому что код для вывода уже готовый и под него подгоняю данные\n",
    "eval_dict = {\n",
    "    'adam_no_scheduler': eval_adam_no_scheduler,\n",
    "    'adam_linear': eval_adam_linear,\n",
    "    'sgd_no_scheduler': eval_sgd_no_scheduler,\n",
    "    'rmsprop_no_scheduler': eval_rmsprop_no_scheduler\n",
    "}\n",
    "#model_names = list(eval_dict.keys())\n",
    "metric_labels = list(eval_sgd_no_scheduler.keys())\n",
    "\n",
    "mean_bleus, mean_rouge1s, mean_rouge2s, mean_rougels, mean_perplexities = [], [], [], [], []\n",
    "model_means_list = [\n",
    "    mean_bleus, mean_rouge1s, mean_rouge2s, mean_rougels, mean_perplexities\n",
    "]\n",
    "\n",
    "# для каждой метрики\n",
    "\n",
    "\n",
    "for model_eval_stats in eval_dict.values():\n",
    "    all_metrics_for_this_model = list(eval_dict.values()) # для каждого словаря с средними метриками каждой модели делаем из метрик список\n",
    "    for metric, model_means in zip(metric_labels, model_means_list):\n",
    "        model_means.append(model_eval_stats[metric])\n",
    "    \n",
    "model_means_for_plot = {\n",
    "    'Средние BLEU': mean_bleus,\n",
    "    'Средние ROUGE 1': mean_rouge1s,\n",
    "    'Средние ROUGE 2': mean_rouge2s,\n",
    "    'Средние ROUGE L': mean_rougels,\n",
    "    'Средние Perplexity': mean_perplexities\n",
    "}"
   ]
  },
  {
   "cell_type": "code",
   "execution_count": null,
   "metadata": {
    "execution": {
     "iopub.execute_input": "2024-12-05T15:08:50.179850Z",
     "iopub.status.busy": "2024-12-05T15:08:50.179497Z",
     "iopub.status.idle": "2024-12-05T15:08:50.187505Z",
     "shell.execute_reply": "2024-12-05T15:08:50.186472Z",
     "shell.execute_reply.started": "2024-12-05T15:08:50.179822Z"
    },
    "trusted": true
   },
   "outputs": [
    {
     "data": {
      "text/plain": [
       "{'Средние BLEU': [0.30993047176301736,\n",
       "  0.3124115532457447,\n",
       "  0.2879495627338906,\n",
       "  0.30824507082954505],\n",
       " 'Средние ROUGE 1': [0.8283308035338662,\n",
       "  0.8300087042490534,\n",
       "  0.7969778544383677,\n",
       "  0.8279702734539336],\n",
       " 'Средние ROUGE 2': [0.48147362641985697,\n",
       "  0.4827640302902819,\n",
       "  0.45868367690366,\n",
       "  0.4799703281447203],\n",
       " 'Средние ROUGE L': [0.40875453933529654,\n",
       "  0.40956377787126635,\n",
       "  0.396855557425326,\n",
       "  0.40729560370214557],\n",
       " 'Средние Perplexity': [31.53620655415286,\n",
       "  31.369263568143158,\n",
       "  66.38759447779032,\n",
       "  31.53620655415286]}"
      ]
     },
     "execution_count": 1,
     "metadata": {},
     "output_type": "execute_result"
    }
   ],
   "source": [
    "model_means_for_plot"
   ]
  },
  {
   "cell_type": "code",
   "execution_count": 8,
   "metadata": {
    "execution": {
     "iopub.execute_input": "2024-12-05T15:22:10.761077Z",
     "iopub.status.busy": "2024-12-05T15:22:10.760332Z",
     "iopub.status.idle": "2024-12-05T15:22:11.357589Z",
     "shell.execute_reply": "2024-12-05T15:22:11.356617Z",
     "shell.execute_reply.started": "2024-12-05T15:22:10.761032Z"
    },
    "trusted": true
   },
   "outputs": [
    {
     "data": {
      "image/png": "[encoded data removed]",
      "text/plain": [
       "<Figure size 1100x1100 with 1 Axes>"
      ]
     },
     "metadata": {},
     "output_type": "display_data"
    }
   ],
   "source": [
    "x = np.arange(len(eval_dict))  # the label locations\n",
    "width = 1/6  # the width of the bars\n",
    "multiplier = 0\n",
    "\n",
    "fig, ax = plt.subplots(layout='constrained', figsize=(11, 11))\n",
    "\n",
    "for attribute, measurement in model_means_for_plot.items():\n",
    "    if attribute != 'Средние Perplexity':\n",
    "        measurement = [m*100 for m in measurement] # Шкалируем метрики  из (0,1) в (0,100) для читаемости на графике. Perplexity и так в (0,100).\n",
    "\n",
    "    offset = width * multiplier\n",
    "    rects = ax.bar(x + offset, measurement, width, label=attribute)\n",
    "    ax.bar_label(rects, padding=5)\n",
    "    multiplier += 1\n",
    "\n",
    "# Add some text for labels, title and custom x-axis tick labels, etc.\n",
    "ax.set_ylabel('Значение метрики')\n",
    "ax.set_title('Значение метрик для каждой из модификаций модели')\n",
    "ax.set_xticks(\n",
    "    x + 2*width,\n",
    "    eval_dict.keys(),\n",
    "    rotation=30\n",
    ")\n",
    "ax.legend(\n",
    "    loc='upper right',\n",
    "    #ncols=5\n",
    ")\n",
    "#ax.set_ylim(0, 250)\n",
    "\n",
    "plt.show()"
   ]
  },
  {
   "cell_type": "markdown",
   "metadata": {},
   "source": [
    "Самая лучшая модель это та - у которой низкая perplexity, а остальные метрики - высокие. По такому принципу (да и по характеру loss'а на train) лучшей моделью можно назвать модель с оптимизатором adam и scheduler'ом linear."
   ]
  },
  {
   "cell_type": "markdown",
   "metadata": {},
   "source": [
    "Простой функционал для чат-бота можно организовать, нужен цикл, а функция генерации текста уже есть. Но качество модели не супер, поэтому и оборачивать ее в бота не вижу особого смысла.."
   ]
  }
 ],
 "metadata": {
  "kaggle": {
   "accelerator": "nvidiaTeslaT4",
   "dataSources": [
    {
     "datasetId": 1192,
     "sourceId": 2143,
     "sourceType": "datasetVersion"
    },
    {
     "datasetId": 6231107,
     "sourceId": 10102307,
     "sourceType": "datasetVersion"
    }
   ],
   "isGpuEnabled": true,
   "isInternetEnabled": true,
   "language": "python",
   "sourceType": "notebook"
  },
  "kernelspec": {
   "display_name": "Python 3",
   "language": "python",
   "name": "python3"
  },
  "language_info": {
   "codemirror_mode": {
    "name": "ipython",
    "version": 3
   },
   "file_extension": ".py",
   "mimetype": "text/x-python",
   "name": "python",
   "nbconvert_exporter": "python",
   "pygments_lexer": "ipython3",
   "version": "3.11.0"
  }
 },
 "nbformat": 4,
 "nbformat_minor": 4
}
